{
 "cells": [
  {
   "cell_type": "code",
   "execution_count": 67,
   "id": "20afe89b",
   "metadata": {},
   "outputs": [],
   "source": [
    "seqs = ['AGT', 'GTA', 'TAA'] #da base de dados\n",
    "chars=\"ACGT\" #se for só dna\n",
    "seq=\"A?TAA??\" #query escolhida por nos \n",
    "import re\n",
    "for seq in seqs:\n",
    "    if not re.fullmatch(\"[ACTG]+\", seq):\n",
    "        raise ValueError(\"Sequências devem conter apenas os caracteres A, C, T ou G\")"
   ]
  },
  {
   "cell_type": "code",
   "execution_count": 68,
   "id": "29a55b07",
   "metadata": {},
   "outputs": [
    {
     "name": "stdout",
     "output_type": "stream",
     "text": [
      "[{'A': 1.5, 'C': 0.5, 'G': 1.5, 'T': 1.5}, {'A': 1.5, 'C': 0.5, 'G': 1.5, 'T': 1.5}, {'A': 2.5, 'C': 0.5, 'G': 0.5, 'T': 1.5}]\n",
      "[{'G': 0.3333333333333333, 'T': 0.3333333333333333, 'A': 0.3333333333333333}, {'G': 0.3333333333333333, 'T': 0.3333333333333333, 'A': 0.3333333333333333}, {'G': 0.1111111111111111, 'T': 0.3333333333333333, 'A': 0.5555555555555556}]\n",
      "[{'G': 0.0, 'T': 0.0, 'A': 0.0}, {'G': 0.0, 'T': 0.0, 'A': 0.0}, {'G': -1.5849625007211563, 'T': 0.0, 'A': 0.7369655941662062}]\n",
      "0.06172839506172839\n",
      "['TAA']\n",
      "TAA\n"
     ]
    }
   ],
   "source": [
    "def contagens(seqs, chars, pseudo = 0.5):\n",
    "    return [{x : s.count(x) + pseudo for x in chars} for s in zip(*seqs)]\n",
    "print(contagens(seqs,chars,0.5))\n",
    "def pwm(seqs, pseudo = 0.5):\n",
    "    tam = len(seqs)\n",
    "    chars = set(''.join(seqs))\n",
    "    cont = contagens(seqs, chars, pseudo)\n",
    "    return [{k : v / sum(d.values()) for k, v in d.items()} for d in cont]\n",
    "print(pwm(seqs,0.5))\n",
    "def pssm(seqs, pseudo = 0.5):\n",
    "    P = pwm(seqs, pseudo)\n",
    "    nchars = len(set(''.join(seqs))) # batota\n",
    "    from math import log2\n",
    "    return [{k : log2(v/(1/nchars)) for k, v in d.items()} for d in P]\n",
    "print(pssm(seqs,0.5))\n",
    "def prob_seq(seq,pwm):\n",
    "    P = 1\n",
    "    for p in [d[x] for x, d in zip(seq, pwm)]: P *= p\n",
    "    if P<0 or P>1: raise ValueError(\"Algo de errado, isso não existe\")  \n",
    "    return P #duvida é porque so os 4 primeiros : accg?? e nao o resto??\n",
    "print(prob_seq(seq,pwm(seqs,0.5)))\n",
    "def seq_mais_provavel (seq,pwm,size):\n",
    "    tam=len(pwm)\n",
    "    import re\n",
    "    candidatos=re.findall(f'(?=({\".\" * size}))', seq)\n",
    "    print(candidatos)\n",
    "    #dar todas as possibilidade que podem exister de uma seq de 4 caracteres estar dentro da seq estudada\n",
    "    #permitir verificar quais os 4 caracteres sao mais provaveis\n",
    "    por_prob=lambda C : prob_seq(C,pwm)\n",
    "    return max(candidatos,key=por_prob)\n",
    "print(seq_mais_provavel(seq,pwm(seqs,0.5),3))\n"
   ]
  },
  {
   "cell_type": "code",
   "execution_count": 3,
   "id": "0fbbc022",
   "metadata": {},
   "outputs": [
    {
     "name": "stdout",
     "output_type": "stream",
     "text": [
      "AC 0.1875\n",
      "CG 0.006944444444444444\n",
      "GT 0.04861111111111111\n",
      "TG 0.006944444444444444\n",
      "GA 0.006944444444444444\n",
      "AA 0.0625\n",
      "AA 0.0625\n",
      "AA 0.0625\n",
      "AA 0.0625\n",
      "AA 0.0625\n"
     ]
    }
   ],
   "source": [
    "import re\n",
    "for s in re.findall(\"(?=(..))\",\"ACGTGAAAAAA\"):\n",
    "    print(s,prob_seq(s,pwm(seqs,0.5)))"
   ]
  },
  {
   "cell_type": "code",
   "execution_count": 18,
   "id": "a4a7a46a",
   "metadata": {},
   "outputs": [
    {
     "name": "stdout",
     "output_type": "stream",
     "text": [
      "[{'G': 0.08333333333333333, 'T': 0.08333333333333333, 'A': 0.75, 'C': 0.08333333333333333}, {'G': 0.08333333333333333, 'T': 0.5833333333333334, 'A': 0.08333333333333333, 'C': 0.25}, {'G': 0.08333333333333333, 'T': 0.5833333333333334, 'A': 0.08333333333333333, 'C': 0.25}, {'G': 0.4166666666666667, 'T': 0.08333333333333333, 'A': 0.08333333333333333, 'C': 0.4166666666666667}]\n"
     ]
    }
   ],
   "source": [
    "def contagens(seqs, chars, pseudo = 0.5):\n",
    "    return [{x : s.count(x) + pseudo for x in chars} for s in zip(*seqs)]\n",
    "def pwm(seqs, pseudo = 0.5):\n",
    "    tam = len(seqs)\n",
    "    chars = set(''.join(seqs))\n",
    "    cont = contagens(seqs, chars, pseudo)\n",
    "    return [{k : v / sum(d.values()) for k, v in d.items()} for d in cont]\n",
    "print(pwm(seqs,0.5))\n",
    "def pssm(seqs, pseudo = 0.5):\n",
    "    P = pwm(seqs, pseudo)\n",
    "    nchars = len(set(''.join(seqs)))\n",
    "    from math import log2\n",
    "    return [{k : log2(v/(1/nchars)) for k, v in d.items()} for d in P]\n",
    "def prob_seq(seq,pwm):\n",
    "    P = 1\n",
    "    for p in [d[x] for x, d in zip(seq, pwm)]: P *= p\n",
    "    return P \n",
    "def seq_mais_provavel (seq,pwm,size):\n",
    "    tam=len(pwm)\n",
    "    import re\n",
    "    candidatos=re.findall(f'(?=({\".\" * size}))', seq)\n",
    "    por_prob=lambda C : prob_seq(C,pwm)\n",
    "    return max(candidatos,key=por_prob)\n"
   ]
  },
  {
   "cell_type": "code",
   "execution_count": null,
   "id": "50f8a0e1",
   "metadata": {},
   "outputs": [],
   "source": [
    "while True:\n",
    "    escolha_de_input= input(\"You prefer use a personal query or a sequence from Data Base (1-QUERY, 2-SEQUENCE): \")\n",
    "    if not escolha_de_input.isdigit():\n",
    "        print(\"Error: Choose a valid identificator\")\n",
    "        continue\n",
    "    if escolha_de_input != '1' and escolha_de_input != '2':\n",
    "        print(\"Error: Choose an identificator present in the list\")\n",
    "\n",
    "        continue\n",
    "    else:\n",
    "        al = escolha_de_input\n",
    "        break\n",
    "if al == \"1\":\n",
    "    Seq_G= input('coloca a sua seqeuncia: ')\n",
    "    Sequence_type= input(\"coloque o tipo de molécula (DNA,RNA,PROTEIN): \")\n",
    "    n=Sequence_type.upper()\n",
    "    RE=sequence_info(Seq_G,n)\n",
    "    dic={\"1\": RE.__len__(), \"2\":RE.letters(), \"3\":RE.validate(), \"4\":RE.contagem(), \"5\":RE.reverse_complement(),\"6\":RE.transcription(), \"7\":RE.translate(),\"8\":RE.get_orfs_DNA(),\"9\":RE.get_orfs_Proteins,\"10\":RE.protsInAA}\n",
    "    while True:\n",
    "        a=input(\"Selecione a função que quer 1-10: \")  \n",
    "        if not a.isdigit():\n",
    "            print(\"Error: Choose a valid identificator\")\n",
    "            continue\n",
    "        if a != '1' and a != '2' and a != '3' and a != '4' and a != '5' and a != '6' and a != '7' and a != '8' and a != '9' and a != '10':\n",
    "            print(\"Error: Choose an identificator present in the list\")\n",
    "            continue\n",
    "        else:\n",
    "            h = a\n",
    "            break\n",
    "    b=dic[h]\n",
    "    print(b)\n",
    "\n",
    "elif al ==\"2\":\n",
    "    print (Seq_and_length)\n",
    "    seq3= int(input('escolha a seq da BD que pretende adicionar ao alinhamento: '))\n",
    "    s3=todas_as_seq[seq3]\n",
    "    Sequence_type= input(\"coloque o tipo de molécula (DNA,RNA,PROTEIN): \")\n",
    "    n=Sequence_type.upper()\n",
    "    RE=sequence_info(Seq_G,n)\n",
    "    dic={\"1\": RE.__len__(), \"2\":RE.letters(), \"3\":RE.validate(), \"4\":RE.contagem(), \"5\":RE.reverse_complement(),\"6\":RE.transcription(), \"7\":RE.translate(),\"8\":RE.get_orfs_DNA(),\"9\":RE.get_orfs_Proteins,\"10\":RE.protsInAA}\n",
    "    while True:\n",
    "        a=input(\"Selecione a função que quer 1-10: \")  \n",
    "        if not a.isdigit():\n",
    "            print(\"Error: Choose a valid identificator\")\n",
    "            continue\n",
    "        if a != '1' and a != '2' and a != '3' and a != '4' and a != '5' and a != '6' and a != '7' and a != '8' and a != '9' and a != '10':\n",
    "            print(\"Error: Choose an identificator present in the list\")\n",
    "            continue\n",
    "        else:\n",
    "            h = a\n",
    "            break\n",
    "    b=dic[h]\n",
    "    print(b)\n",
    "else: print(\"erro\")\n",
    "    "
   ]
  },
  {
   "cell_type": "code",
   "execution_count": 94,
   "id": "42b10b28",
   "metadata": {
    "scrolled": true
   },
   "outputs": [
    {
     "ename": "ValueError",
     "evalue": "Sequences must only have A, C, T or G",
     "output_type": "error",
     "traceback": [
      "\u001b[1;31m---------------------------------------------------------------------------\u001b[0m",
      "\u001b[1;31mValueError\u001b[0m                                Traceback (most recent call last)",
      "Input \u001b[1;32mIn [94]\u001b[0m, in \u001b[0;36m<cell line: 36>\u001b[1;34m()\u001b[0m\n\u001b[0;32m     35\u001b[0m         \u001b[38;5;28;01mreturn\u001b[39;00m \u001b[38;5;28mmax\u001b[39m(candidatos,key\u001b[38;5;241m=\u001b[39mpor_prob)\n\u001b[0;32m     36\u001b[0m \u001b[38;5;28;01mif\u001b[39;00m \u001b[38;5;18m__name__\u001b[39m \u001b[38;5;241m==\u001b[39m \u001b[38;5;124m\"\u001b[39m\u001b[38;5;124m__main__\u001b[39m\u001b[38;5;124m\"\u001b[39m: \n\u001b[1;32m---> 37\u001b[0m     pwm \u001b[38;5;241m=\u001b[39m \u001b[43mPWM\u001b[49m\u001b[43m(\u001b[49m\u001b[43m[\u001b[49m\u001b[38;5;124;43m'\u001b[39;49m\u001b[38;5;124;43mAGT?\u001b[39;49m\u001b[38;5;124;43m'\u001b[39;49m\u001b[43m,\u001b[49m\u001b[43m \u001b[49m\u001b[38;5;124;43m'\u001b[39;49m\u001b[38;5;124;43mGTA?\u001b[39;49m\u001b[38;5;124;43m'\u001b[39;49m\u001b[43m,\u001b[49m\u001b[43m \u001b[49m\u001b[38;5;124;43m'\u001b[39;49m\u001b[38;5;124;43mTAA?\u001b[39;49m\u001b[38;5;124;43m'\u001b[39;49m\u001b[43m]\u001b[49m\u001b[43m)\u001b[49m\n\u001b[0;32m     38\u001b[0m     \u001b[38;5;28mprint\u001b[39m(pwm\u001b[38;5;241m.\u001b[39mcontagens())\n\u001b[0;32m     39\u001b[0m     seq \u001b[38;5;241m=\u001b[39m \u001b[38;5;124m'\u001b[39m\u001b[38;5;124mAGT\u001b[39m\u001b[38;5;124m'\u001b[39m\n",
      "Input \u001b[1;32mIn [94]\u001b[0m, in \u001b[0;36mPWM.__init__\u001b[1;34m(self, seqs, pseudo)\u001b[0m\n\u001b[0;32m      3\u001b[0m \u001b[38;5;28;01mfor\u001b[39;00m seq \u001b[38;5;129;01min\u001b[39;00m seqs:\n\u001b[0;32m      4\u001b[0m     \u001b[38;5;28;01mif\u001b[39;00m \u001b[38;5;129;01mnot\u001b[39;00m re\u001b[38;5;241m.\u001b[39mfullmatch(\u001b[38;5;124m\"\u001b[39m\u001b[38;5;124m[ACTG]+\u001b[39m\u001b[38;5;124m\"\u001b[39m, seq):\n\u001b[1;32m----> 5\u001b[0m         \u001b[38;5;28;01mraise\u001b[39;00m \u001b[38;5;167;01mValueError\u001b[39;00m(\u001b[38;5;124m\"\u001b[39m\u001b[38;5;124mSequences must only have A, C, T or G\u001b[39m\u001b[38;5;124m\"\u001b[39m)\n\u001b[0;32m      6\u001b[0m \u001b[38;5;28mself\u001b[39m\u001b[38;5;241m.\u001b[39mseqs \u001b[38;5;241m=\u001b[39m seqs\n\u001b[0;32m      7\u001b[0m \u001b[38;5;28mself\u001b[39m\u001b[38;5;241m.\u001b[39mtam \u001b[38;5;241m=\u001b[39m \u001b[38;5;28mlen\u001b[39m(seqs)\n",
      "\u001b[1;31mValueError\u001b[0m: Sequences must only have A, C, T or G"
     ]
    }
   ],
   "source": [
    "class PWM:\n",
    "    def __init__(self, seqs, pseudo = 0.5):\n",
    "        for seq in seqs:\n",
    "            if not re.fullmatch(\"[ACTG]+\", seq):\n",
    "                raise ValueError(\"Sequences must only have A, C, T or G\")\n",
    "        self.seqs = seqs\n",
    "        self.tam = len(seqs)\n",
    "        self.chars = set(''.join(seqs)) | set('A') | set(\"C\") | set(\"G\") | set (\"T\")\n",
    "        self.pseudo = pseudo\n",
    "        self.pwm_matrix = self.pwm()\n",
    "\n",
    "    def contagens(self):\n",
    "        return [{x : s.count(x) + self.pseudo for x in self.chars} for s in zip(*self.seqs)]\n",
    "\n",
    "    def pwm(self):\n",
    "        cont = self.contagens()\n",
    "        return [{k : v / sum(d.values()) for k, v in d.items()} for d in cont]\n",
    "\n",
    "    def pssm(self):\n",
    "        P = self.pwm_matrix\n",
    "        nchars = len(set(''.join(self.seqs)))\n",
    "        from math import log2\n",
    "        return [{k : log2(v/(1/nchars)) for k, v in d.items()} for d in P]\n",
    "\n",
    "    def prob_seq(self, seq):\n",
    "        P = 1\n",
    "        for p in [d[x] for x, d in zip(seq, self.pwm_matrix)]: P *= p\n",
    "        return P \n",
    "\n",
    "    def seq_mais_provavel (self,seq,size):\n",
    "        import re\n",
    "        if size>len(seq): raise ValueError (\"It is not possible\")\n",
    "        candidatos=re.findall(f'(?=({\".\" * size}))', seq)\n",
    "        por_prob=lambda C : self.prob_seq(C)\n",
    "        return max(candidatos,key=por_prob)\n",
    "if __name__ == \"__main__\": \n",
    "    pwm = PWM(['AGT?', 'GTA?', 'TAA?'])\n",
    "    print(pwm.contagens())\n",
    "    seq = 'AGT'\n",
    "    #print(pwm.prob_seq(seq))\n",
    "#     seq = 'AATTGTCGATCTG'\n",
    "    #size=4\n",
    "    #print(pwm.seq_mais_provavel(seq, size))\n",
    "#     seqs = [\"AGCTAGCT\", \"CGATCGAT\", \"TCGATCGA\", \"AGCGAGCG\"]\n",
    "#     pwm_object1 = PWM(seqs)\n",
    "#     result1 = pwm_object1.pwm()\n",
    "#     print(result1)\n",
    "#     pwm_object = PWM(seqs)\n",
    "#     result = pwm_object.pssm()\n",
    "#     print(result)"
   ]
  },
  {
   "cell_type": "code",
   "execution_count": 88,
   "id": "26516336",
   "metadata": {},
   "outputs": [
    {
     "name": "stderr",
     "output_type": "stream",
     "text": [
      ".....\n",
      "----------------------------------------------------------------------\n",
      "Ran 5 tests in 0.006s\n",
      "\n",
      "OK\n"
     ]
    }
   ],
   "source": [
    "import unittest\n",
    "\n",
    "class PWMUnitTests(unittest.TestCase):\n",
    "    def setUp(self):\n",
    "        self.seqs = ['AGT', 'GTA', 'TAA']\n",
    "        self.pseudo = 0.5\n",
    "        self.pwm = PWM(self.seqs, pseudo=self.pseudo)\n",
    "        \n",
    "        \n",
    "        with self.assertRaises(ValueError) as context:\n",
    "            pwm = PWM(['AGT', 'GTA', 'TAA?', 'A-T'])\n",
    "        self.assertEqual(str(context.exception), \"Sequences must only have A, C, T or G\")\n",
    "        \n",
    "\n",
    "    def test_contagens(self):\n",
    "        expected_result = [\n",
    "            {'C': 0.5, 'G': 1.5, 'T': 1.5, 'A': 1.5},\n",
    "            {'C': 0.5, 'G': 1.5, 'T': 1.5, 'A': 1.5},\n",
    "            {'C': 0.5, 'G': 0.5, 'T': 1.5, 'A': 2.5}\n",
    "        ]\n",
    "        self.assertEqual(self.pwm.contagens(), expected_result)\n",
    "\n",
    "    def test_pwm(self):\n",
    "        expected_pwm  = [\n",
    "            {'C': 0.1, 'G': 0.3, 'T': 0.3, 'A': 0.3},\n",
    "            {'C': 0.1, 'G': 0.3, 'T': 0.3, 'A': 0.3},\n",
    "            {'C': 0.1, 'G': 0.1, 'T': 0.3, 'A': 0.5}\n",
    "        ]\n",
    "        self.assertEqual(self.pwm.pwm_matrix, expected_pwm)\n",
    "\n",
    "    def test_pssm(self):\n",
    "        expected_result = [\n",
    "            {'C': -1.7369655941662059, 'G': -0.15200309344504997, 'T': -0.15200309344504997, 'A': -0.15200309344504997},\n",
    "            {'C': -1.7369655941662059, 'G': -0.15200309344504997, 'T': -0.15200309344504997, 'A': -0.15200309344504997},\n",
    "            {'C': -1.7369655941662059, 'G': -1.7369655941662059, 'T': -0.15200309344504997, 'A': 0.5849625007211562}\n",
    "        ]\n",
    "        result = self.pwm.pssm()\n",
    "        self.assertEqual(result, expected_result)\n",
    "\n",
    "    def test_prob_seq(self):\n",
    "        seq = 'AGT'\n",
    "        expected_prob = 0.027\n",
    "        self.assertEqual(self.pwm.prob_seq(seq), expected_prob)\n",
    "        \n",
    "        self.assertGreaterEqual(self.pwm.prob_seq(seq), 0)\n",
    "        self.assertLessEqual(self.pwm.prob_seq(seq), 1)\n",
    "\n",
    "    def test_seq_mais_provavel(self):\n",
    "        result = self.pwm.seq_mais_provavel('AGT', 2)\n",
    "        self.assertEqual(result, 'AG')\n",
    "        \n",
    "        seq = 'AGTGTAGT'\n",
    "        size = 10\n",
    "        with self.assertRaises(ValueError) as context:\n",
    "            self.pwm.seq_mais_provavel(seq, size)\n",
    "        self.assertEqual(str(context.exception), \"It is not possible\")\n",
    "\n",
    "if __name__ == '__main__':\n",
    "    unittest.main(argv=['first-arg-is-ignored'], exit=False)\n"
   ]
  },
  {
   "cell_type": "code",
   "execution_count": 90,
   "id": "57a0f91f",
   "metadata": {},
   "outputs": [
    {
     "name": "stdout",
     "output_type": "stream",
     "text": [
      "You prefer use a personal query or a sequence from Data Base (1-QUERY, 2-SEQUENCE): 1\n"
     ]
    }
   ],
   "source": [
    "escolha_pessoal=input(\"You prefer use a personal query or a sequence from Data Base (1-QUERY, 2-SEQUENCE): \")\n",
    "\n",
    "escolheu={\"1\":1, \"2\":2}\n",
    "\n"
   ]
  },
  {
   "cell_type": "code",
   "execution_count": null,
   "id": "10be6f1f",
   "metadata": {},
   "outputs": [],
   "source": [
    "print('\\nThe results from the 2 - Local and Global Alignments:\\n{}\\n'.format(result))\n",
    "print(\"Dictionary for the cut enzyme:\", {\"R\" : \"[GA]\", \"Y\" : \"[CT]\", \"M\" : \"[AC]\", \"K\" : \"[GT]\", \"S\" : \"[GC]\", \"W\" : \"[AT]\", \"B\" : \"[^A]\", \"D\" : \"[^C]\", \"H\" : \"[^G]\", \"V\" : \"[^T]\", \"N\" : \"[ACGT]\"})\n",
    "\n",
    "input_enzyme = input('Insert your cut enzyme (example: R^K): ')\n",
    "\n",
    "while True:    \n",
    "    choosep = input('\\nChoose the identificator of a seq-1 that you want to work with: ')\n",
    "    if not choosep.isdigit():\n",
    "        print(\"Error: Choose a valid identificator\")\n",
    "        continue\n",
    "    choosep = int(choosep)\n",
    "    identificators = [i[0] for i in result]\n",
    "    if choosep not in identificators:\n",
    "        print(\"Error: Choose an identificator present in the list\")\n",
    "        continue\n",
    "    else:\n",
    "        s1 = ''.join(db.extract_sequences()[int(choosep)])\n",
    "        print('\\n{}'.format(s1))\n",
    "        print(Prosite(input_enzyme.upper(), s1))\n",
    "        break"
   ]
  }
 ],
 "metadata": {
  "kernelspec": {
   "display_name": "Python 3 (ipykernel)",
   "language": "python",
   "name": "python3"
  },
  "language_info": {
   "codemirror_mode": {
    "name": "ipython",
    "version": 3
   },
   "file_extension": ".py",
   "mimetype": "text/x-python",
   "name": "python",
   "nbconvert_exporter": "python",
   "pygments_lexer": "ipython3",
   "version": "3.9.12"
  }
 },
 "nbformat": 4,
 "nbformat_minor": 5
}
