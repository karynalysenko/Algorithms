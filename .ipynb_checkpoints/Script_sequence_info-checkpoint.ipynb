{
 "cells": [
  {
   "cell_type": "markdown",
   "id": "7979ffe5",
   "metadata": {},
   "source": [
    "Classe para analisar as sequencia, se é dna,rna,proteina e fazer respetiva transcrição e tradução- tentr colcoar os orf tb"
   ]
  },
  {
   "cell_type": "code",
   "execution_count": 9,
   "id": "e37ecbb6",
   "metadata": {},
   "outputs": [
    {
     "data": {
      "text/plain": [
       "'nao tem nada'"
      ]
     },
     "execution_count": 9,
     "metadata": {},
     "output_type": "execute_result"
    }
   ],
   "source": [
    "def translate_codon(cod):\n",
    "    \"\"\"Translates a codon into an aminoacid using an internal dictionary with the standard genetic code.\"\"\"\n",
    "    tc = {\"GCT\":\"A\", \"GCC\":\"A\", \"GCA\":\"A\", \"GCG\":\"A\", \n",
    "      \"TGT\":\"C\", \"TGC\":\"C\",\n",
    "      \"GAT\":\"D\", \"GAC\":\"D\",\n",
    "      \"GAA\":\"E\", \"GAG\":\"E\",\n",
    "      \"TTT\":\"F\", \"TTC\":\"F\",\n",
    "      \"GGT\":\"G\", \"GGC\":\"G\", \"GGA\":\"G\", \"GGG\":\"G\",\n",
    "      \"CAT\":\"H\", \"CAC\":\"H\",\n",
    "      \"ATA\":\"I\", \"ATT\":\"I\", \"ATC\":\"I\",\n",
    "      \"AAA\":\"K\", \"AAG\":\"K\",\n",
    "      \"TTA\":\"L\", \"TTG\":\"L\", \"CTT\":\"L\", \"CTC\":\"L\", \"CTA\":\"L\", \"CTG\":\"L\",\n",
    "      \"ATG\":\"M\", \"AAT\":\"N\", \"AAC\":\"N\",\n",
    "      \"CCT\":\"P\", \"CCC\":\"P\", \"CCA\":\"P\", \"CCG\":\"P\",\n",
    "      \"CAA\":\"Q\", \"CAG\":\"Q\",\n",
    "      \"CGT\":\"R\", \"CGC\":\"R\", \"CGA\":\"R\", \"CGG\":\"R\", \"AGA\":\"R\", \"AGG\":\"R\",\n",
    "      \"TCT\":\"S\", \"TCC\":\"S\", \"TCA\":\"S\", \"TCG\":\"S\", \"AGT\":\"S\", \"AGC\":\"S\",\n",
    "      \"ACT\":\"T\", \"ACC\":\"T\", \"ACA\":\"T\", \"ACG\":\"T\",\n",
    "      \"GTT\":\"V\", \"GTC\":\"V\", \"GTA\":\"V\", \"GTG\":\"V\",\n",
    "      \"TGG\":\"W\",\n",
    "      \"TAT\":\"Y\", \"TAC\":\"Y\",\n",
    "      \"TAA\":\"_\", \"TAG\":\"_\", \"TGA\":\"_\"}\n",
    "    if cod in tc: return tc[cod] #vai buscar ao dicionario conforma a chave dic[chave] e dá o valor que neste caso é uma letra\n",
    "    else: return \"nao tem nada\"\n",
    "translate_codon(\"GTCTAC\")"
   ]
  },
  {
   "cell_type": "code",
   "execution_count": 40,
   "id": "afd327cf",
   "metadata": {},
   "outputs": [
    {
     "name": "stdout",
     "output_type": "stream",
     "text": [
      "True True\n",
      "ATGTGATAAGAATAGAATGCTGAATAAATAGAATGACAT\n",
      "AUGUGAUAAGAAUAGAAUGCUGAAUAAAUAGAAUGACAU\n",
      "TACACTATTCTTATCTTACGACTTATTTATCTTACTGTA\n"
     ]
    }
   ],
   "source": [
    "#criar a classe\n",
    "class sequence_info:\n",
    "    #bloco construtor/ self é geral\n",
    "    def __init__(self,sequence, sequence_type:\"DNA\"):\n",
    "        self.sequence=sequence.upper() #quero colcoar uma instancia global para todas as sequencias que vamos ler e têm que todas ser automaticamente em letra maiuscula\n",
    "        self.sequence_type=sequence_type\n",
    "    def __length__(self):\n",
    "        return len(self.sequence)\n",
    "    def __getitem__(self,n):\n",
    "        return self.sequence[n]\n",
    "    def __getslice__(self,i,j):\n",
    "        return self.sequence[i:j]\n",
    "    def __str__(self):\n",
    "        return self.sequence\n",
    "    def sequence_type(self):\n",
    "        return self.sequence_type\n",
    "    def letters(self):#quero atribuir todas a possiveis letras a cada tipoi de seqeuncia , ou entao dá erro isto é de forma geral\n",
    "        #estou a dizer ao codigo a teoria , ou seja, cada letra possivel de ter para dna,rna , protein\n",
    "        if (self.sequence_type==\"DNA\"): return \"ACGT\"\n",
    "        elif(self.sequence_type==\"RNA\"):return \"ACGU\"\n",
    "        elif(self.sequence_type==\"PROTEIN\"): return \"ACDEFGHIKLMNPQRSTVWY\"\n",
    "        else: return \"ERROR\"\n",
    "    def validate(self): # percorre a seq toda caso não encontre as letras do alfabeto da falso\n",
    "        letras=self.letters()\n",
    "        res=True\n",
    "        i=0\n",
    "        while i<len(self.sequence) and res:\n",
    "            if self.sequence[i] not in letras: res = False\n",
    "            else: i +=1\n",
    "            return res\n",
    "    def reverse_complement(self):\n",
    "        if (self.sequence_type != \"DNA\"):return \"só quero trabalahr com dna\"\n",
    "        a=self.sequence.replace(\"T\",\"a\")\n",
    "        b=a.replace(\"G\",\"c\")\n",
    "        c=b.replace(\"C\",\"g\")\n",
    "        d=c.replace(\"A\",\"t\")\n",
    "        return d.upper()    \n",
    "    def transcription(self):\n",
    "        if (self.sequence_type==\"DNA\"): return sequence_info(self.sequence.replace(\"T\",\"U\"),\"RNA\")\n",
    "        else:return \"it is not DNA\"\n",
    "    def translate(self):#só de dna para protein i guess\n",
    "        if (self.sequence_type != \"DNA\"): return \"não dá\"\n",
    "        sequence_aa=\"\"\n",
    "        for x in range(0, len(self,sequence)-2,3):#ja ve de 3 em 3\n",
    "            codon=self.sequence[x:x+3]\n",
    "            sequence_aa=translate_codon(codon) #definido anteriormente\n",
    "            return sequence_info(sequence_aa,\"PROTEIN\")\n",
    "        \n",
    " #if name=main é para conseguir importar direitinho os nodulos ou seja quanto estou neste ficheiro o name =main e ele faz a classe se for para outro ficheiro e importar a classe ele faz na mesma a classe sem repetir tufo o que aqui tenho\n",
    "# https://www.youtube.com/watch?v=3dHyS1W4TIE\n",
    "if __name__ == \"__main__\":   \n",
    "    s1 = sequence_info(\"ATGTGATAAGAATAGAATGCTGAATAAATAGAATGACAT\",\"DNA\")\n",
    "    s2 = sequence_info(\"MKVVLSVQERSVVSLL\", \"PROTEIN\")\n",
    "    print(\"sequence 1 is {}? {}s1.validate(), s2.validate())\n",
    "    print(s1)\n",
    "    s3 = s1.transcription()\n",
    "    print(s3)\n",
    "    s4 = s1.reverse_complement()\n",
    "    print(s4)"
   ]
  },
  {
   "cell_type": "code",
   "execution_count": 3,
   "id": "b8e94d5c",
   "metadata": {},
   "outputs": [
    {
     "data": {
      "text/plain": [
       "4"
      ]
     },
     "execution_count": 3,
     "metadata": {},
     "output_type": "execute_result"
    }
   ],
   "source": [
    "sequence=\"ACTG\"\n",
    "len(sequence)"
   ]
  },
  {
   "cell_type": "code",
   "execution_count": null,
   "id": "8b8ad6c7",
   "metadata": {},
   "outputs": [],
   "source": []
  }
 ],
 "metadata": {
  "kernelspec": {
   "display_name": "Python 3 (ipykernel)",
   "language": "python",
   "name": "python3"
  },
  "language_info": {
   "codemirror_mode": {
    "name": "ipython",
    "version": 3
   },
   "file_extension": ".py",
   "mimetype": "text/x-python",
   "name": "python",
   "nbconvert_exporter": "python",
   "pygments_lexer": "ipython3",
   "version": "3.9.12"
  }
 },
 "nbformat": 4,
 "nbformat_minor": 5
}
