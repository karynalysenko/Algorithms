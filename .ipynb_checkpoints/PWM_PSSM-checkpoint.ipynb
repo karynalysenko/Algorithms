{
 "cells": [
  {
   "cell_type": "code",
   "execution_count": 41,
   "id": "2663f902",
   "metadata": {},
   "outputs": [
    {
     "name": "stdout",
     "output_type": "stream",
     "text": [
      "[[0.375, 0.125, 0.125, 0.375, 0.125], [0.375, 0.375, 0.375, 0.125, 0.375], [0.125, 0.375, 0.375, 0.125, 0.125], [0.125, 0.125, 0.125, 0.375, 0.375]]\n",
      "0.007415771484375\n"
     ]
    }
   ],
   "source": [
    "#teste1\n",
    "def cria_mat(linhas, colunas):\n",
    "    M = []\n",
    "    for l in range(0, linhas):\n",
    "        M.append([0]*colunas)\n",
    "    return M\n",
    "def criaPWM(seqs, alfabeto, pseudo=0.5):\n",
    "    contagens = cria_mat(len(alfabeto), len(seqs[0]))\n",
    "    for b in seqs:\n",
    "        for i in range(len(b)):\n",
    "            linha = alfabeto.index(b[i])\n",
    "            contagens[linha][i] +=1\n",
    "    pwm = cria_mat(len(contagens), len(contagens[0]))\n",
    "    for l in range(len(contagens)):\n",
    "        for c in range(len(contagens[l])):\n",
    "            pwm[l][c] = (contagens[l][c] + 0.5) /(len(seqs) + pseudo*4)\n",
    "    return pwm\n",
    "\n",
    "alfabeto = \"ACGT\"\n",
    "s1 = \"ACGTC\"\n",
    "s2 = \"CGCAT\"\n",
    "seqs = [s1, s2]\n",
    "pwm1 = criaPWM(seqs, alfabeto)\n",
    "print(pwm1)\n",
    "\n",
    "def probabSeq(pwm, alfabeto, seq):\n",
    "    P = 1.0 #se for 0 anulamos tudo, isto é o acumulador, no caso das somas e contagens é 0\n",
    "    for i in range(len(pwm[0])):\n",
    "        linha = alfabeto.index(seq[i])\n",
    "        P *= pwm[linha][i]\n",
    "    return P\n",
    "a=probabSeq(pwm1,alfabeto,s1)\n",
    "print(a)\n",
    "#def seq_mais_provavel(seq,pwm):\n",
    "#     tam=len(pwm)\n",
    "#     import re\n",
    "#     candidatos=re.findall(\"(?=(....))\",seq)\n",
    "#     por_prob=lambda C : probabSeq(C,pwm,alfabeto)\n",
    "#     return max(candidatos, key=por_prob)\n",
    "# print(seq_mais_provavel(\"ACCGTGA\",criaPWM(seqs, alfabeto, pseudo=0.5"
   ]
  },
  {
   "cell_type": "code",
   "execution_count": 14,
   "id": "c545577a",
   "metadata": {},
   "outputs": [
    {
     "name": "stdout",
     "output_type": "stream",
     "text": [
      "0\n",
      "1\n",
      "2\n",
      "3\n",
      "1\n",
      "1\n",
      "2\n",
      "1\n",
      "0\n",
      "3\n",
      "None\n"
     ]
    }
   ],
   "source": [
    "def criaPWM(seqs, alfabeto):\n",
    "    contagens = cria_mat(len(alfabeto), len(seqs[0]))#tem de ser se seq alinhadas\n",
    "    for b in seqs:\n",
    "        for i in range(len(b)):\n",
    "            linha = alfabeto.index(b[i])\n",
    "            print(linha)\n",
    "            contagens[linha][i] +=1\n",
    "    pwm = cria_mat(len(contagens), len(contagens[0]))\n",
    "    for l in range(len(contagens)):\n",
    "        for c in range(len(contagens[l])):\n",
    "            pwm[l][c] = contagens[l][c]/len(seqs)\n",
    "    #return pwm\n",
    "alfabeto = \"ACGT\"\n",
    "s1 = \"ACGTC\"\n",
    "s2 = \"CGCAT\"\n",
    "seqs = [s1, s2]\n",
    "pwm1 = criaPWM(seqs, alfabeto)\n",
    "print(pwm1)"
   ]
  },
  {
   "cell_type": "code",
   "execution_count": 69,
   "id": "20afe89b",
   "metadata": {},
   "outputs": [],
   "source": [
    "seqs = ['ATTG','ATCG','ATTC','ACTC']\n",
    "chars=\"ACGT\"\n",
    "seq=\"ACGTGAAAAAA\""
   ]
  },
  {
   "cell_type": "code",
   "execution_count": 111,
   "id": "29a55b07",
   "metadata": {},
   "outputs": [
    {
     "name": "stdout",
     "output_type": "stream",
     "text": [
      "[{'A': 0.75, 'G': 0.08333333333333333, 'C': 0.08333333333333333, 'T': 0.08333333333333333}, {'A': 0.08333333333333333, 'G': 0.08333333333333333, 'C': 0.25, 'T': 0.5833333333333334}, {'A': 0.08333333333333333, 'G': 0.08333333333333333, 'C': 0.25, 'T': 0.5833333333333334}, {'A': 0.08333333333333333, 'G': 0.4166666666666667, 'C': 0.4166666666666667, 'T': 0.08333333333333333}]\n",
      "['ACG', 'CGT', 'GTG', 'TGA', 'GAA', 'AAA', 'AAA', 'AAA', 'AAA']\n",
      "AC 0.1875\n",
      "CG 0.006944444444444444\n",
      "GT 0.04861111111111111\n",
      "TG 0.006944444444444444\n",
      "GA 0.006944444444444444\n",
      "AA 0.0625\n",
      "AA 0.0625\n",
      "AA 0.0625\n",
      "AA 0.0625\n",
      "AA 0.0625\n"
     ]
    }
   ],
   "source": [
    "def contagens(seqs, chars, pseudo = 0.5):\n",
    "    return [{x : s.count(x) + pseudo for x in chars} for s in zip(*seqs)]\n",
    "#contagens(seqs,chars,0.5)\n",
    "def pwm(seqs, pseudo = 0.5):\n",
    "    tam = len(seqs)\n",
    "    chars = set(''.join(seqs))\n",
    "    cont = contagens(seqs, chars, pseudo)\n",
    "    return [{k : v / sum(d.values()) for k, v in d.items()} for d in cont]\n",
    "print(pwm(seqs,0.5))\n",
    "def pssm(seqs, pseudo = 0.5):\n",
    "    P = pwm(seqs, pseudo)\n",
    "    nchars = len(set(''.join(seqs))) # batota\n",
    "    from math import log2\n",
    "    return [{k : log2(v/(1/nchars)) for k, v in d.items()} for d in P]\n",
    "#pssm(seqs,0.5)\n",
    "def prob_seq(seq,pwm):\n",
    "    P = 1\n",
    "    for p in [d[x] for x, d in zip(seq, pwm)]: P *= p\n",
    "    return P #duvida é porque so os 4 primeiros : accg?? e nao o resto??\n",
    "#prob_seq(seq,pwm(seqs,0.5))\n",
    "def seq_mais_provavel (seq,pwm,size):\n",
    "    tam=len(pwm)\n",
    "    import re\n",
    "    candidatos=re.findall(f'(?=({\".\" * size}))', seq)\n",
    "    print(candidatos)\n",
    "    #dar todas as possibilidade que podem exister de uma seq de 4 caracteres estar dentro da seq estudada\n",
    "    #permitir verificar quais os 4 caracteres sao mais provaveis\n",
    "    por_prob=lambda C : prob_seq(C,pwm)\n",
    "    return max(candidatos,key=por_prob)\n",
    "seq_mais_provavel(seq,pwm(seqs,0.5),3)\n",
    "import re\n",
    "for s in re.findall(\"(?=(..))\",\"ACGTGAAAAAA\"):\n",
    "    print(s,prob_seq(s,pwm(seqs,0.5)))"
   ]
  },
  {
   "cell_type": "code",
   "execution_count": 70,
   "id": "cd8444fd",
   "metadata": {},
   "outputs": [
    {
     "name": "stdout",
     "output_type": "stream",
     "text": [
      "A {'A': 0.75, 'G': 0.08333333333333333, 'C': 0.08333333333333333, 'T': 0.08333333333333333}\n",
      "C {'A': 0.08333333333333333, 'G': 0.08333333333333333, 'C': 0.25, 'T': 0.5833333333333334}\n",
      "G {'A': 0.08333333333333333, 'G': 0.08333333333333333, 'C': 0.25, 'T': 0.5833333333333334}\n",
      "T {'A': 0.08333333333333333, 'G': 0.4166666666666667, 'C': 0.4166666666666667, 'T': 0.08333333333333333}\n"
     ]
    }
   ],
   "source": [
    "for x, d in zip(seq, pwm(seqs,0.5)):\n",
    "                print(x,d)"
   ]
  },
  {
   "cell_type": "code",
   "execution_count": null,
   "id": "0fbbc022",
   "metadata": {},
   "outputs": [],
   "source": []
  }
 ],
 "metadata": {
  "kernelspec": {
   "display_name": "Python 3 (ipykernel)",
   "language": "python",
   "name": "python3"
  },
  "language_info": {
   "codemirror_mode": {
    "name": "ipython",
    "version": 3
   },
   "file_extension": ".py",
   "mimetype": "text/x-python",
   "name": "python",
   "nbconvert_exporter": "python",
   "pygments_lexer": "ipython3",
   "version": "3.9.12"
  }
 },
 "nbformat": 4,
 "nbformat_minor": 5
}
