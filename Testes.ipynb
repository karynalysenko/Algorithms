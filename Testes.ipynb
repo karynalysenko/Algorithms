{
 "cells": [
  {
   "cell_type": "code",
   "execution_count": 5,
   "id": "b4ba7fff",
   "metadata": {},
   "outputs": [
    {
     "name": "stdout",
     "output_type": "stream",
     "text": [
      "Escolha o tamanho máximo das seq: 50\n",
      "[\"('AAADK0043071.1', 21)\", \"('AAADS0003348.1', 20)\", \"('AAADW0009410.1', 21)\", \"('AAADX0043451.1', 21)\", \"('ABAAM0346030.1', 20)\"]\n",
      "escolha a primeira seq com que quer trabalhar: 3\n"
     ]
    },
    {
     "name": "stderr",
     "output_type": "stream",
     "text": [
      "C:\\Users\\guilh\\anaconda3\\lib\\site-packages\\Bio\\Entrez\\__init__.py:658: UserWarning: \n",
      "Email address is not specified.\n",
      "\n",
      "To make use of NCBI's E-utilities, NCBI requires you to specify your\n",
      "email address with each request.  As an example, if your email address\n",
      "is A.N.Other@example.com, you can specify it as follows:\n",
      "   from Bio import Entrez\n",
      "   Entrez.email = 'A.N.Other@example.com'\n",
      "In case of excessive usage of the E-utilities, NCBI will attempt to contact\n",
      "a user at the email address provided before blocking access to the\n",
      "E-utilities.\n",
      "  warnings.warn(\n"
     ]
    },
    {
     "name": "stdout",
     "output_type": "stream",
     "text": [
      "tipo de molécula com que está a trabalhar: DNA\n"
     ]
    },
    {
     "name": "stderr",
     "output_type": "stream",
     "text": [
      "E\n",
      "======================================================================\n",
      "ERROR: C:\\Users\\guilh\\AppData\\Roaming\\jupyter\\runtime\\kernel-468d9e2f-1699-4ff1-b113-df175f241421 (unittest.loader._FailedTest)\n",
      "----------------------------------------------------------------------\n",
      "AttributeError: module '__main__' has no attribute 'C:\\Users\\guilh\\AppData\\Roaming\\jupyter\\runtime\\kernel-468d9e2f-1699-4ff1-b113-df175f241421'\n",
      "\n",
      "----------------------------------------------------------------------\n",
      "Ran 1 test in 0.001s\n",
      "\n",
      "FAILED (errors=1)\n"
     ]
    },
    {
     "name": "stdout",
     "output_type": "stream",
     "text": [
      "[Seq('GAGTGGAGATGGCGGAGCTGT'), Seq('CAACACGGGAAACCTCACCC'), Seq('GGGATGGAAGATGGCGGCCTA'), Seq('GGTGGCTAGGGCCGCGCTGGT'), Seq('GTTTGGTGAACTTCTGCCTA')]\n",
      "GGTGGCTAGGGCCGCGCTGGT\n"
     ]
    },
    {
     "ename": "SystemExit",
     "evalue": "True",
     "output_type": "error",
     "traceback": [
      "An exception has occurred, use %tb to see the full traceback.\n",
      "\u001b[1;31mSystemExit\u001b[0m\u001b[1;31m:\u001b[0m True\n"
     ]
    },
    {
     "name": "stderr",
     "output_type": "stream",
     "text": [
      "C:\\Users\\guilh\\anaconda3\\lib\\site-packages\\IPython\\core\\interactiveshell.py:3377: UserWarning: To exit: use 'exit', 'quit', or Ctrl-D.\n",
      "  warn(\"To exit: use 'exit', 'quit', or Ctrl-D.\", stacklevel=1)\n"
     ]
    }
   ],
   "source": [
    "import unittest\n",
    "from sequence_info import sequence_info\n",
    "class TestSequenceInfo(unittest.TestCase):\n",
    "    def test_init(self):\n",
    "        seq = sequence_info(\"AGCT\", \"DNA\")\n",
    "        self.assertEqual(seq.sequence, \"AGCT\")\n",
    "        self.assertEqual(seq.sequence_type, \"DNA\")\n",
    "\n",
    "    def test_length(self):\n",
    "        seq = sequence_info(\"AGCT\", \"DNA\")\n",
    "        self.assertEqual(len(seq), 4)\n",
    "\n",
    "    def test_getitem(self):\n",
    "        seq = sequence_info(\"AGCT\", \"DNA\")\n",
    "        self.assertEqual(seq[0], \"A\")\n",
    "\n",
    "    def test_getslice(self):\n",
    "        seq = sequence_info(\"AGCT\", \"DNA\")\n",
    "        self.assertEqual(seq[0:2], \"AG\")\n",
    "\n",
    "    def test_str(self):\n",
    "        seq = sequence_info(\"AGCT\", \"DNA\")\n",
    "        self.assertEqual(str(seq), \"AGCT\")\n",
    "\n",
    "    def test_sequence_type(self):\n",
    "        seq = sequence_info(\"AGCT\", \"DNA\")\n",
    "        self.assertEqual(seq.sequence_type(), \"DNA\")\n",
    "\n",
    "    def test_letters(self):\n",
    "        seq = sequence_info(\"AGCT\", \"DNA\")\n",
    "        self.assertEqual(seq.letters(), \"ACGT\")\n",
    "\n",
    "    def test_validate(self):\n",
    "        seq = sequence_info(\"AGCT\", \"DNA\")\n",
    "        self.assertTrue(seq.validate())\n",
    "\n",
    "    def test_contagem(self):\n",
    "        seq = sequence_info(\"AGCT\", \"DNA\")\n",
    "        self.assertEqual(seq.contagem(), [(\"A\", 1), (\"C\", 1), (\"G\", 1), (\"T\", 1)])\n",
    "\n",
    "    def test_reverse_complement(self):\n",
    "        seq = sequence_info(\"AGCT\", \"DNA\")\n",
    "        self.assertEqual(seq.reverse_complement(), \"AGCT\")\n",
    "\n",
    "    def test_transcription(self):\n",
    "        seq = sequence_info(\"AGCT\", \"DNA\")\n",
    "        self.assertEqual(seq.transcription().sequence, \"AGCU\")\n",
    "\n",
    "    def test_translate(self):\n",
    "        seq = sequence_info(\"AGCT\", \"DNA\")\n",
    "        self.assertEqual(seq.translate(), \"S\")\n",
    "\n",
    "    def test_get_orfs_DNA(self):\n",
    "        seq = sequence_info(\"AGCT\", \"DNA\")\n",
    "        self.assertEqual(seq.get_orfs_DNA(), \"AGCT,GCT,CT,CTA,T,TG\")\n",
    "\n",
    "    def test_get_orfs_Proteins(self):\n",
    "        seq = sequence_info(\"AGCT\", \"DNA\")\n",
    "        self.assertEqual(seq.get_orfs_Proteins(), \"S,S,S,S,S,S\")\n",
    "\n",
    "    def test_protsInAA(self):\n",
    "        seq = sequence_info(\"AGCT\", \"DNA\")\n",
    "        self.assertEqual(seq.protsInAA(), \"S\")\n",
    "\n",
    "if __name__ == '__main__':\n",
    "    unittest.main()\n",
    "\n"
   ]
  },
  {
   "cell_type": "code",
   "execution_count": 6,
   "id": "6c34a120",
   "metadata": {},
   "outputs": [
    {
     "ename": "SystemExit",
     "evalue": "True",
     "output_type": "error",
     "traceback": [
      "\u001b[1;31m---------------------------------------------------------------------------\u001b[0m",
      "\u001b[1;31mSystemExit\u001b[0m                                Traceback (most recent call last)",
      "Input \u001b[1;32mIn [5]\u001b[0m, in \u001b[0;36m<cell line: 65>\u001b[1;34m()\u001b[0m\n\u001b[0;32m     63\u001b[0m         \u001b[38;5;28mself\u001b[39m\u001b[38;5;241m.\u001b[39massertEqual(seq\u001b[38;5;241m.\u001b[39mprotsInAA(), \u001b[38;5;124m\"\u001b[39m\u001b[38;5;124mS\u001b[39m\u001b[38;5;124m\"\u001b[39m)\n\u001b[0;32m     65\u001b[0m \u001b[38;5;28;01mif\u001b[39;00m \u001b[38;5;18m__name__\u001b[39m \u001b[38;5;241m==\u001b[39m \u001b[38;5;124m'\u001b[39m\u001b[38;5;124m__main__\u001b[39m\u001b[38;5;124m'\u001b[39m:\n\u001b[1;32m---> 66\u001b[0m     \u001b[43munittest\u001b[49m\u001b[38;5;241;43m.\u001b[39;49m\u001b[43mmain\u001b[49m\u001b[43m(\u001b[49m\u001b[43m)\u001b[49m\n",
      "File \u001b[1;32m~\\anaconda3\\lib\\unittest\\main.py:101\u001b[0m, in \u001b[0;36mTestProgram.__init__\u001b[1;34m(self, module, defaultTest, argv, testRunner, testLoader, exit, verbosity, failfast, catchbreak, buffer, warnings, tb_locals)\u001b[0m\n\u001b[0;32m     99\u001b[0m \u001b[38;5;28mself\u001b[39m\u001b[38;5;241m.\u001b[39mprogName \u001b[38;5;241m=\u001b[39m os\u001b[38;5;241m.\u001b[39mpath\u001b[38;5;241m.\u001b[39mbasename(argv[\u001b[38;5;241m0\u001b[39m])\n\u001b[0;32m    100\u001b[0m \u001b[38;5;28mself\u001b[39m\u001b[38;5;241m.\u001b[39mparseArgs(argv)\n\u001b[1;32m--> 101\u001b[0m \u001b[38;5;28;43mself\u001b[39;49m\u001b[38;5;241;43m.\u001b[39;49m\u001b[43mrunTests\u001b[49m\u001b[43m(\u001b[49m\u001b[43m)\u001b[49m\n",
      "File \u001b[1;32m~\\anaconda3\\lib\\unittest\\main.py:273\u001b[0m, in \u001b[0;36mTestProgram.runTests\u001b[1;34m(self)\u001b[0m\n\u001b[0;32m    271\u001b[0m \u001b[38;5;28mself\u001b[39m\u001b[38;5;241m.\u001b[39mresult \u001b[38;5;241m=\u001b[39m testRunner\u001b[38;5;241m.\u001b[39mrun(\u001b[38;5;28mself\u001b[39m\u001b[38;5;241m.\u001b[39mtest)\n\u001b[0;32m    272\u001b[0m \u001b[38;5;28;01mif\u001b[39;00m \u001b[38;5;28mself\u001b[39m\u001b[38;5;241m.\u001b[39mexit:\n\u001b[1;32m--> 273\u001b[0m     \u001b[43msys\u001b[49m\u001b[38;5;241;43m.\u001b[39;49m\u001b[43mexit\u001b[49m\u001b[43m(\u001b[49m\u001b[38;5;129;43;01mnot\u001b[39;49;00m\u001b[43m \u001b[49m\u001b[38;5;28;43mself\u001b[39;49m\u001b[38;5;241;43m.\u001b[39;49m\u001b[43mresult\u001b[49m\u001b[38;5;241;43m.\u001b[39;49m\u001b[43mwasSuccessful\u001b[49m\u001b[43m(\u001b[49m\u001b[43m)\u001b[49m\u001b[43m)\u001b[49m\n",
      "\u001b[1;31mSystemExit\u001b[0m: True"
     ]
    }
   ],
   "source": [
    "%tb"
   ]
  },
  {
   "cell_type": "code",
   "execution_count": null,
   "id": "b50bf87b",
   "metadata": {},
   "outputs": [],
   "source": []
  }
 ],
 "metadata": {
  "kernelspec": {
   "display_name": "Python 3 (ipykernel)",
   "language": "python",
   "name": "python3"
  },
  "language_info": {
   "codemirror_mode": {
    "name": "ipython",
    "version": 3
   },
   "file_extension": ".py",
   "mimetype": "text/x-python",
   "name": "python",
   "nbconvert_exporter": "python",
   "pygments_lexer": "ipython3",
   "version": "3.9.12"
  }
 },
 "nbformat": 4,
 "nbformat_minor": 5
}
