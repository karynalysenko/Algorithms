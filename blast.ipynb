{
 "cells": [
  {
   "cell_type": "markdown",
   "id": "d283e233",
   "metadata": {},
   "source": [
    "https://colab.research.google.com/drive/1Q9xOhs_1Jz6g-FLaemPR5yHhTXpzKx1u#scrollTo=ExxUgPNEK50v"
   ]
  },
  {
   "cell_type": "code",
   "execution_count": 2,
   "id": "c6da577c",
   "metadata": {},
   "outputs": [],
   "source": [
    "#Final\n",
    "import mysql.connector as SQLC\n",
    "class DB:\n",
    "#database connection and extraction of sequences and id_genebanks\n",
    "    def __init__(self, password):        \n",
    "        if password != \"20221207\":\n",
    "            raise Exception(\"The password is wrong!\")\n",
    "\n",
    "        else:\n",
    "            self.cnx = SQLC.connect(\n",
    "                    host =\"geo.di.uminho.pt\",\n",
    "                    user =\"bioinformatica\",\n",
    "                    password = password, #\"20221207\"\n",
    "                    database =\"AP_db_KRG\")\n",
    "            self.sequences = []\n",
    "        \n",
    "    def extract_sequences(self):\n",
    "        cursor = self.cnx.cursor()\n",
    "        cursor.execute(\"SELECT sequence FROM Gene\")\n",
    "        self.sequences = cursor.fetchall()\n",
    "        cursor.close()\n",
    "        \n",
    "    def extract_ids(self):\n",
    "        cursor = self.cnx.cursor()\n",
    "        cursor.execute(\"SELECT ID_genebank FROM Gene\")\n",
    "        self.sequences = cursor.fetchall()\n",
    "        cursor.close()\n",
    "    \n",
    "    def __str__(self): \n",
    "        return self.sequences"
   ]
  },
  {
   "cell_type": "code",
   "execution_count": 2,
   "id": "63fb8d85",
   "metadata": {},
   "outputs": [
    {
     "ename": "Exception",
     "evalue": "The password is wrong!",
     "output_type": "error",
     "traceback": [
      "\u001b[1;31m---------------------------------------------------------------------------\u001b[0m",
      "\u001b[1;31mException\u001b[0m                                 Traceback (most recent call last)",
      "Input \u001b[1;32mIn [2]\u001b[0m, in \u001b[0;36m<cell line: 1>\u001b[1;34m()\u001b[0m\n\u001b[1;32m----> 1\u001b[0m \u001b[43mDB\u001b[49m\u001b[43m(\u001b[49m\u001b[38;5;124;43m\"\u001b[39;49m\u001b[38;5;124;43m2022\u001b[39;49m\u001b[38;5;124;43m\"\u001b[39;49m\u001b[43m)\u001b[49m\n",
      "Input \u001b[1;32mIn [1]\u001b[0m, in \u001b[0;36mDB.__init__\u001b[1;34m(self, password)\u001b[0m\n\u001b[0;32m      5\u001b[0m \u001b[38;5;28;01mdef\u001b[39;00m \u001b[38;5;21m__init__\u001b[39m(\u001b[38;5;28mself\u001b[39m, password):        \n\u001b[0;32m      6\u001b[0m     \u001b[38;5;28;01mif\u001b[39;00m password \u001b[38;5;241m!=\u001b[39m \u001b[38;5;124m\"\u001b[39m\u001b[38;5;124m20221207\u001b[39m\u001b[38;5;124m\"\u001b[39m:\n\u001b[1;32m----> 7\u001b[0m         \u001b[38;5;28;01mraise\u001b[39;00m \u001b[38;5;167;01mException\u001b[39;00m(\u001b[38;5;124m\"\u001b[39m\u001b[38;5;124mThe password is wrong!\u001b[39m\u001b[38;5;124m\"\u001b[39m)\n\u001b[0;32m      9\u001b[0m     \u001b[38;5;28;01melse\u001b[39;00m:\n\u001b[0;32m     10\u001b[0m         \u001b[38;5;28mself\u001b[39m\u001b[38;5;241m.\u001b[39mcnx \u001b[38;5;241m=\u001b[39m SQLC\u001b[38;5;241m.\u001b[39mconnect(\n\u001b[0;32m     11\u001b[0m                 host \u001b[38;5;241m=\u001b[39m\u001b[38;5;124m\"\u001b[39m\u001b[38;5;124mgeo.di.uminho.pt\u001b[39m\u001b[38;5;124m\"\u001b[39m,\n\u001b[0;32m     12\u001b[0m                 user \u001b[38;5;241m=\u001b[39m\u001b[38;5;124m\"\u001b[39m\u001b[38;5;124mbioinformatica\u001b[39m\u001b[38;5;124m\"\u001b[39m,\n\u001b[0;32m     13\u001b[0m                 password \u001b[38;5;241m=\u001b[39m password, \u001b[38;5;66;03m#\"20221207\"\u001b[39;00m\n\u001b[0;32m     14\u001b[0m                 database \u001b[38;5;241m=\u001b[39m\u001b[38;5;124m\"\u001b[39m\u001b[38;5;124mAP_db_KRG\u001b[39m\u001b[38;5;124m\"\u001b[39m)\n",
      "\u001b[1;31mException\u001b[0m: The password is wrong!"
     ]
    }
   ],
   "source": [
    "DB(\"2022\")"
   ]
  },
  {
   "cell_type": "code",
   "execution_count": 3,
   "id": "1a3511bf",
   "metadata": {},
   "outputs": [
    {
     "name": "stderr",
     "output_type": "stream",
     "text": [
      "test_extract_ids (__main__.TestDB) ... ok\n",
      "test_extract_sequences (__main__.TestDB) ... ok\n",
      "test_setUp (__main__.TestDB) ... ok\n",
      "\n",
      "----------------------------------------------------------------------\n",
      "Ran 3 tests in 3.320s\n",
      "\n",
      "OK\n"
     ]
    },
    {
     "data": {
      "text/plain": [
       "<unittest.runner.TextTestResult run=3 errors=0 failures=0>"
      ]
     },
     "execution_count": 3,
     "metadata": {},
     "output_type": "execute_result"
    }
   ],
   "source": [
    "#Final\n",
    "import unittest\n",
    "class TestDB(unittest.TestCase):\n",
    "#testing DB class\n",
    "    def test_setUp(self):\n",
    "        self.assertTrue(DB(\"20221207\"))\n",
    "        with self.assertRaises(Exception) as error:\n",
    "            self.db1 = DB(\"2022120\")\n",
    "            self.db2 = DB(\"20221208\")\n",
    "            self.db3 = DB(\"\")\n",
    "        self.assertEqual(error.exception.args[0], \"The password is wrong!\")\n",
    "\n",
    "    def test_extract_sequences(self):\n",
    "        self.db = DB(\"20221207\")\n",
    "        self.db.extract_sequences()\n",
    "        self.assertIsNotNone(self.db.sequences)\n",
    "        \n",
    "    def test_extract_ids(self):\n",
    "        self.db = DB(\"20221207\")\n",
    "        self.db.extract_ids()\n",
    "        self.assertIsNotNone(self.db.sequences)\n",
    "        \n",
    "suite = unittest.TestLoader().loadTestsFromTestCase(TestDB)\n",
    "unittest.TextTestRunner(verbosity=3).run(suite)   "
   ]
  },
  {
   "cell_type": "code",
   "execution_count": 4,
   "id": "3b69738b",
   "metadata": {},
   "outputs": [],
   "source": [
    "#FINAL\n",
    "class SimpleBlast:\n",
    "    def __init__(self, w, seq):\n",
    "        self.w = w\n",
    "        self.seq = seq\n",
    "        \n",
    "    def query_map(self, query):\n",
    "    #returns a dictionary where key is query of length w and values are \n",
    "    #the indexes of query that match with key\n",
    "        \n",
    "        query_map = {}\n",
    "        for i in range(len(query) - self.w + 1):\n",
    "            window = query[i: i + self.w]\n",
    "            if window in query_map:\n",
    "                query_map[window].append(i)\n",
    "            else:\n",
    "                query_map[window] = [i]\n",
    "        return query_map \n",
    "\n",
    "    def hits(self, query_map, sequence):\n",
    "    #returns list of tuples where 1st index is from query and 2nd is from seq\n",
    "        hits = []\n",
    "        for window_query, query_offsets in query_map.items():\n",
    "            if window_query in sequence:\n",
    "                seq_offset = sequence.find(window_query)\n",
    "                while seq_offset != -1: #because of find()\n",
    "                    for query_offset in query_offsets:\n",
    "                        hits.append((query_offset, seq_offset))\n",
    "                    seq_offset = sequence.find(window_query, seq_offset + 1) #because while loop and find()\n",
    "        return sorted(hits)\n",
    "\n",
    "    def extend_hit_dir(self, query, sequence, q_offset, s_offset, direction):\n",
    "    #direction: -1 or +1\n",
    "        count = 0\n",
    "        matches = 0\n",
    "        while q_offset >= 0 and s_offset >= 0 and q_offset < len(query) and s_offset < len(sequence):\n",
    "            count += 1\n",
    "            if query[q_offset] == sequence[s_offset]:\n",
    "                matches += 1\n",
    "            if 2 * matches < count:\n",
    "                break\n",
    "            q_offset += direction\n",
    "            s_offset += direction\n",
    "        return q_offset - direction, s_offset - direction, matches, count\n",
    "\n",
    "    def extend_hit(self, query, seq, hit, w):\n",
    "    #given a hit, will extend the search of matches to left and right    \n",
    "        o1, o2 = hit\n",
    "        left  = self.extend_hit_dir(query, seq, o1 - 1, o2 - 1, -1)\n",
    "        right = self.extend_hit_dir(query, seq, o1 + w, o2 + w, +1)\n",
    "\n",
    "        O1, O2, ML, SL = left\n",
    "        _,   _, MR, SR = right\n",
    "\n",
    "#         print({'ML':ML, 'SR':SR, 'SL':SL,'MR':MR})\n",
    "        return O1, O2, w + SL + SR, ML + w + MR\n",
    "    \n",
    "    def best_hit(self, query, seq, w):\n",
    "    #finds best hit from all hits and respective extensions\n",
    "        query_map = self.query_map(query)\n",
    "        hits = self.hits(query_map, seq)\n",
    "        best_hit = None\n",
    "        best_score = -1\n",
    "        for hit in hits:\n",
    "            o1, o2, l, m = self.extend_hit(query, seq, hit, w)\n",
    "            score = m - (l - m)\n",
    "            if score > best_score or (score == best_score and l < best_hit[2]):\n",
    "                best_hit = (o1, o2, l, m)\n",
    "                best_score = score\n",
    "        return best_hit\n",
    "    \n",
    "# best_hit = (A,B,C,D)\n",
    "# A = start position of the best match in the query\n",
    "# B = starting position of the best match in the sequence\n",
    "# C = best match size\n",
    "# D = number of matches between nucleotides of the best match"
   ]
  },
  {
   "cell_type": "code",
   "execution_count": 5,
   "id": "b1266ed0",
   "metadata": {},
   "outputs": [
    {
     "name": "stderr",
     "output_type": "stream",
     "text": [
      "test_best_hit (__main__.TestSBlast) ... ok\n",
      "test_extend_hit (__main__.TestSBlast) ... ok\n",
      "test_extend_hit_dir (__main__.TestSBlast) ... ok\n",
      "test_hits (__main__.TestSBlast) ... ok\n",
      "test_querymap (__main__.TestSBlast) ... ok\n",
      "\n",
      "----------------------------------------------------------------------\n",
      "Ran 5 tests in 0.006s\n",
      "\n",
      "OK\n"
     ]
    },
    {
     "data": {
      "text/plain": [
       "<unittest.runner.TextTestResult run=5 errors=0 failures=0>"
      ]
     },
     "execution_count": 5,
     "metadata": {},
     "output_type": "execute_result"
    }
   ],
   "source": [
    "#Final\n",
    "class TestSBlast(unittest.TestCase):\n",
    "    w = 3\n",
    "    seq = 'AATATGTTATATAATAATATTT'\n",
    "    query = 'AATATAT'\n",
    "    result_qm = {'AAT': [0], 'ATA': [1, 3], 'TAT': [2, 4]}\n",
    "    def setUp(self):\n",
    "        self.sb = SimpleBlast(self.w, self.seq)\n",
    "      \n",
    "    def test_querymap(self):\n",
    "        self.assertEqual(self.sb.query_map(self.query),self.result_qm)\n",
    "        \n",
    "    def test_hits(self):\n",
    "        result_hit = [(0, 0), (0, 12), (0, 15), (1, 1), (1, 8), (1, 10), (1, 13), (1, 16),\n",
    "                    (3, 1), (3, 8), (3, 10), (3, 13), (3, 16), (2, 2), (2, 7), (2, 9),\n",
    "                    (2, 17), (4, 2), (4, 7), (4, 9), (4, 17)]\n",
    "        self.assertEqual(set(self.sb.hits(self.result_qm, self.seq)), set(result_hit))\n",
    "        \n",
    "    def test_extend_hit_dir(self):\n",
    "        self.assertEqual(self.sb.extend_hit_dir(self.query, self.seq, 1, 16, -1), (0, 15, 2, 2))\n",
    "        self.assertEqual(self.sb.extend_hit_dir(self.query, self.seq, 1, 16, 1), (6, 21, 5, 6)) \n",
    "        \n",
    "    def test_extend_hit(self):\n",
    "        self.assertEqual(self.sb.extend_hit(self.query, self.seq, (1,16), self.w), (0, 15, 7, 6))\n",
    "    \n",
    "    def test_best_hit(self):\n",
    "        self.assertEqual(self.sb.best_hit(self.query, self.seq, self.w), (0, 0, 7, 6))  \n",
    "\n",
    "suite = unittest.TestLoader().loadTestsFromTestCase(TestSBlast)\n",
    "unittest.TextTestRunner( verbosity=3 ).run( suite )"
   ]
  },
  {
   "cell_type": "code",
   "execution_count": 6,
   "id": "6b76d517",
   "metadata": {},
   "outputs": [],
   "source": [
    "#final\n",
    "class BlastResults:\n",
    "    def __init__(self, query, w, password):\n",
    "        self.query = query\n",
    "        self.w = w\n",
    "        self.password = password\n",
    "        self.sequences_obj = DB(password)\n",
    "        self.ids_obj = DB(password)\n",
    "        self.sequences_obj.extract_sequences()\n",
    "        self.ids_obj.extract_ids()\n",
    "  \n",
    "    def process_results(self):\n",
    "    #joins the best_hit to respective id_genebank (from database)\n",
    "        all_seqs = []\n",
    "        for num, seq in enumerate(self.sequences_obj.sequences):\n",
    "            seq_id = []\n",
    "            seq = ''.join(seq)\n",
    "            blast = SimpleBlast(self.w, seq)\n",
    "            results = blast.best_hit(self.query, seq, self.w)\n",
    "            seq_id.append(results)\n",
    "            seq_id.append(''.join(self.ids_obj.sequences[num]))\n",
    "            all_seqs.append(seq_id)\n",
    "        return all_seqs\n",
    "    \n",
    "    def sort_results(self):\n",
    "        return sorted(self.process_results(), key=lambda item: item[0][-1] if item[0] else 0, reverse=True)\n",
    "\n",
    "    \n",
    "    \n",
    "    def printing(self):\n",
    "        # organized printing\n",
    "        print(\n",
    "            '{:>9} {:>15} {:>18} {:>12}  {:>5}'.format('Query position', 'Seq position', 'Length of match', 'Max match',\n",
    "                                                       'Id'))\n",
    "        for i in self.sort_results():\n",
    "            if i[0]:\n",
    "#             print(i)\n",
    "                print('{:>6} {:>18} {:>15} {:>16}      |'.format(*i[0]), i[1])\n",
    "        return '_______________________________________________________________'"
   ]
  },
  {
   "cell_type": "code",
   "execution_count": 7,
   "id": "2649df80",
   "metadata": {},
   "outputs": [
    {
     "name": "stderr",
     "output_type": "stream",
     "text": [
      "test_process_results (__main__.TestBlastResults) ... ok\n",
      "test_sort_results (__main__.TestBlastResults) ... ok\n",
      "\n",
      "----------------------------------------------------------------------\n",
      "Ran 2 tests in 1.534s\n",
      "\n",
      "OK\n"
     ]
    },
    {
     "data": {
      "text/plain": [
       "<unittest.runner.TextTestResult run=2 errors=0 failures=0>"
      ]
     },
     "execution_count": 7,
     "metadata": {},
     "output_type": "execute_result"
    }
   ],
   "source": [
    "#Final\n",
    "import unittest\n",
    "\n",
    "class TestBlastResults(unittest.TestCase):\n",
    "#specific results are not being tested because the database can change.     \n",
    "    def setUp(self):\n",
    "        self.query = \"ACGT\"\n",
    "        self.w = 3\n",
    "        self.password = \"20221207\"\n",
    "        self.blast_results = BlastResults(self.query, self.w, self.password)\n",
    "\n",
    "    def test_process_results(self):\n",
    "        all_seqs = self.blast_results.process_results()\n",
    "        self.assertIsNotNone(all_seqs)\n",
    "        self.assertIsInstance(all_seqs, list)\n",
    "        self.assertGreater(len(all_seqs), 0)\n",
    "        self.assertIsInstance(all_seqs[0], list)\n",
    "        self.assertEqual(len(all_seqs[0]), 2)\n",
    "\n",
    "    def test_sort_results(self):\n",
    "        sorted_results = self.blast_results.sort_results()\n",
    "        self.assertIsNotNone(sorted_results)\n",
    "        self.assertIsInstance(sorted_results, list)\n",
    "        self.assertGreater(len(sorted_results), 0)\n",
    "        self.assertIsInstance(sorted_results[0], list)\n",
    "        self.assertEqual(len(sorted_results[0]), 2)\n",
    "        self.assertTrue(sorted_results == sorted(sorted_results, key=lambda x: x[0][-1] if x[0] else 0, reverse=True))\n",
    "        \n",
    "suite = unittest.TestLoader().loadTestsFromTestCase(TestBlastResults)\n",
    "unittest.TextTestRunner( verbosity=3 ).run( suite )  \n"
   ]
  },
  {
   "cell_type": "code",
   "execution_count": 12,
   "id": "b195cda7",
   "metadata": {},
   "outputs": [
    {
     "name": "stdout",
     "output_type": "stream",
     "text": [
      "Query position    Seq position    Length of match    Max match     Id\n",
      "     0                  1               2                1      | A00829.1\n",
      "     2                  0               1                1      | AAADK0043071.1\n",
      "     0                  1               2                1      | AAADS0003348.1\n",
      "     0                 20               1                1      | AAADW0009410.1\n",
      "     2                  0               1                1      | AAADX0043451.1\n",
      "     0                  2               2                1      | AAVX01203288.1\n",
      "     0                 19               1                1      | ABAAM0346030.1\n",
      "     0                  2               2                1      | BAAF03073813.1\n",
      "     0                  4               2                1      | DH405380.1\n",
      "     0                 15               2                1      | EC923692.1\n",
      "     0                  6               2                1      | EC966285.1\n",
      "     2                  0               1                1      | M97702.1\n",
      "     2                  0               1                1      | X65482.1\n",
      "     0                 49               1                1      | X68316.1\n"
     ]
    },
    {
     "data": {
      "text/plain": [
       "'_______________________________________________________________'"
      ]
     },
     "execution_count": 12,
     "metadata": {},
     "output_type": "execute_result"
    }
   ],
   "source": [
    "query = \"AUG\"\n",
    "w = 1\n",
    "\n",
    "# try:\n",
    "blast_results = BlastResults(query, w, \"20221207\")\n",
    "\n",
    "blast_results.printing()\n"
   ]
  },
  {
   "cell_type": "code",
   "execution_count": 10,
   "id": "884b728f",
   "metadata": {},
   "outputs": [
    {
     "name": "stdout",
     "output_type": "stream",
     "text": [
      "Enter query: 12\n",
      "Enter window: 2\n",
      "Enter password: 20221207\n",
      "Error: query must be only letters of nucleotides\n",
      "Enter query: ã\n",
      "Enter window: 1\n",
      "Enter password: 20221207\n",
      "Query position    Seq position    Length of match    Max match     Id\n"
     ]
    },
    {
     "data": {
      "text/plain": [
       "'_______________________________________________________________'"
      ]
     },
     "execution_count": 10,
     "metadata": {},
     "output_type": "execute_result"
    }
   ],
   "source": [
    "#Final\n",
    "def validate_inputs(query, window, password):\n",
    "    if not query.isalpha():\n",
    "        return \"Error: query must be only letters of nucleotides\"\n",
    "    if not window.isdigit():\n",
    "        return \"Error: window must be only numbers\"\n",
    "    if int(window) > len(query):\n",
    "        return \"Error: window must be equal or less than the length of query\"\n",
    "    if password != \"20221207\":\n",
    "        return \"Error: wrong password\"\n",
    "    return \"Inputs are valid.\"\n",
    "\n",
    "while True:\n",
    "    query = input(\"Enter query: \")\n",
    "    window = input(\"Enter window: \")\n",
    "    password = input(\"Enter password: \")\n",
    "    \n",
    "    result = validate_inputs(query, window, password)\n",
    "    if result == \"Inputs are valid.\":\n",
    "        q = str(query).upper()\n",
    "        w = int(window)\n",
    "        break\n",
    "    else:\n",
    "        print(result)\n",
    "\n",
    "blast_results = BlastResults(q, w, password)\n",
    "blast_results.printing()"
   ]
  },
  {
   "cell_type": "code",
   "execution_count": 11,
   "id": "5a760507",
   "metadata": {},
   "outputs": [
    {
     "name": "stderr",
     "output_type": "stream",
     "text": [
      "test_invalid_password (__main__.TestValidateInputs) ... ok\n",
      "test_invalid_query (__main__.TestValidateInputs) ... ok\n",
      "test_invalid_window (__main__.TestValidateInputs) ... ok\n",
      "test_valid_inputs (__main__.TestValidateInputs) ... ok\n",
      "test_window_larger_than_query (__main__.TestValidateInputs) ... ok\n",
      "\n",
      "----------------------------------------------------------------------\n",
      "Ran 5 tests in 0.007s\n",
      "\n",
      "OK\n"
     ]
    },
    {
     "data": {
      "text/plain": [
       "<unittest.runner.TextTestResult run=5 errors=0 failures=0>"
      ]
     },
     "execution_count": 11,
     "metadata": {},
     "output_type": "execute_result"
    }
   ],
   "source": [
    "#Final\n",
    "class TestValidateInputs(unittest.TestCase):\n",
    "    def test_valid_inputs(self):\n",
    "        query = \"query\"\n",
    "        window = \"3\"\n",
    "        password = \"20221207\"\n",
    "        result = validate_inputs(query, window, password)\n",
    "        self.assertEqual(result, \"Inputs are valid.\")\n",
    "        \n",
    "    def test_invalid_query(self):\n",
    "        query = \"1234\"\n",
    "        window = \"3\"\n",
    "        password = \"20221207\"\n",
    "        result = validate_inputs(query, window, password)\n",
    "        self.assertEqual(result, \"Error: query must be only letters of nucleotides\")\n",
    "        \n",
    "    def test_invalid_window(self):\n",
    "        query = \"query\"\n",
    "        window = \"abc\"\n",
    "        password = \"20221207\"\n",
    "        result = validate_inputs(query, window, password)\n",
    "        self.assertEqual(result, \"Error: window must be only numbers\")\n",
    "        \n",
    "    def test_invalid_password(self):\n",
    "        query = \"query\"\n",
    "        window = \"3\"\n",
    "        password = \"12345678\"\n",
    "        result = validate_inputs(query, window, password)\n",
    "        self.assertEqual(result, \"Error: wrong password\")\n",
    "        \n",
    "    def test_window_larger_than_query(self):\n",
    "        query = \"query\"\n",
    "        window = \"10\"\n",
    "        password = \"20221207\"\n",
    "        result = validate_inputs(query, window, password)\n",
    "        self.assertEqual(result, \"Error: window must be equal or less than the length of query\")\n",
    "        \n",
    "suite = unittest.TestLoader().loadTestsFromTestCase(TestValidateInputs)\n",
    "unittest.TextTestRunner( verbosity=3 ).run( suite )"
   ]
  }
 ],
 "metadata": {
  "kernelspec": {
   "display_name": "Python 3 (ipykernel)",
   "language": "python",
   "name": "python3"
  },
  "language_info": {
   "codemirror_mode": {
    "name": "ipython",
    "version": 3
   },
   "file_extension": ".py",
   "mimetype": "text/x-python",
   "name": "python",
   "nbconvert_exporter": "python",
   "pygments_lexer": "ipython3",
   "version": "3.9.12"
  }
 },
 "nbformat": 4,
 "nbformat_minor": 5
}
