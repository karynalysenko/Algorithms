{
 "cells": [
  {
   "cell_type": "code",
   "execution_count": 67,
   "id": "c6da577c",
   "metadata": {},
   "outputs": [],
   "source": [
    "#Final\n",
    "import mysql.connector as SQLC\n",
    "class DB:\n",
    "#database connection and extraction of sequences and id_genebanks\n",
    "    def __init__(self, password):        \n",
    "        if password != \"20221207\":\n",
    "            raise Exception(\"The password is wrong!\")\n",
    "\n",
    "        else:\n",
    "            self.cnx = SQLC.connect(\n",
    "                    host =\"geo.di.uminho.pt\",\n",
    "                    user =\"bioinformatica\",\n",
    "                    password = password, #\"20221207\"\n",
    "                    database =\"AP_db_KRG\")\n",
    "            self.sequences = []\n",
    "        \n",
    "    def extract_sequences(self):\n",
    "        cursor = self.cnx.cursor()\n",
    "        cursor.execute(\"SELECT sequence FROM Gene\")\n",
    "        self.sequences = cursor.fetchall()\n",
    "        cursor.close()\n",
    "        \n",
    "    def extract_ids(self):\n",
    "        cursor = self.cnx.cursor()\n",
    "        cursor.execute(\"SELECT ID_genebank FROM Gene\")\n",
    "        self.sequences = cursor.fetchall()\n",
    "        cursor.close()\n",
    "    \n",
    "    def __str__(self): \n",
    "        return self.sequences"
   ]
  },
  {
   "cell_type": "code",
   "execution_count": 61,
   "id": "9a8c53ae",
   "metadata": {},
   "outputs": [
    {
     "name": "stderr",
     "output_type": "stream",
     "text": [
      "test_extract_ids (__main__.TestDB) ... ok\n",
      "test_extract_sequences (__main__.TestDB) ... ok\n",
      "test_setUp (__main__.TestDB) ... ok\n",
      "\n",
      "----------------------------------------------------------------------\n",
      "Ran 3 tests in 0.578s\n",
      "\n",
      "OK\n"
     ]
    },
    {
     "data": {
      "text/plain": [
       "<unittest.runner.TextTestResult run=3 errors=0 failures=0>"
      ]
     },
     "execution_count": 61,
     "metadata": {},
     "output_type": "execute_result"
    }
   ],
   "source": [
    "#Final\n",
    "import unittest\n",
    "class TestDB(unittest.TestCase):\n",
    "#testing DB class\n",
    "    def test_setUp(self):\n",
    "        self.assertTrue(DB(\"20221207\"))\n",
    "        with self.assertRaises(Exception) as error:\n",
    "            self.db1 = DB(\"2022120\")\n",
    "            self.db2 = DB(\"20221208\")\n",
    "            self.db3 = DB(\"\")\n",
    "            self.db4 = DB(\" \")\n",
    "        self.assertEqual(error.exception.args[0], \"The password is wrong!\")\n",
    "\n",
    "    def test_extract_sequences(self):\n",
    "        self.db = DB(\"20221207\")\n",
    "        self.db.extract_sequences()\n",
    "        self.assertIsNotNone(self.db.sequences)\n",
    "        \n",
    "    def test_extract_ids(self):\n",
    "        self.db = DB(\"20221207\")\n",
    "        self.db.extract_ids()\n",
    "        self.assertIsNotNone(self.db.sequences)\n",
    "        \n",
    "suite = unittest.TestLoader().loadTestsFromTestCase(TestDB)\n",
    "unittest.TextTestRunner(verbosity=3).run(suite)   "
   ]
  },
  {
   "cell_type": "code",
   "execution_count": 134,
   "id": "3b69738b",
   "metadata": {},
   "outputs": [],
   "source": [
    "#FINAL\n",
    "class SimpleBlast:\n",
    "    def __init__(self, w, seq):\n",
    "        self.w = w\n",
    "        self.seq = seq\n",
    "        \n",
    "    def query_map(self, query):\n",
    "    #returns a dictionary where key is query of length w and values are \n",
    "    #the indexes of query that match with key\n",
    "        \n",
    "        query_map = {}\n",
    "        for i in range(len(query) - self.w + 1):\n",
    "            window = query[i: i + self.w]\n",
    "            if window in query_map:\n",
    "                query_map[window].append(i)\n",
    "            else:\n",
    "                query_map[window] = [i]\n",
    "        return query_map \n",
    "\n",
    "    def hits(self, query_map, sequence):\n",
    "    #returns list of tuples where 1st index is from query and 2nd is from seq\n",
    "        hits = []\n",
    "        for window_query, query_offsets in query_map.items():\n",
    "            if window_query in sequence:\n",
    "                seq_offset = sequence.find(window_query)\n",
    "                while seq_offset != -1: #because of find()\n",
    "                    for query_offset in query_offsets:\n",
    "                        hits.append((query_offset, seq_offset))\n",
    "                    seq_offset = sequence.find(window_query, seq_offset + 1) #because while loop and find()\n",
    "        return hits\n",
    "\n",
    "    def extend_hit_dir(self, query, sequence, q_offset, s_offset, direction):\n",
    "    #direction: -1 or +1\n",
    "        count = 0\n",
    "        matches = 0\n",
    "        while q_offset >= 0 and s_offset >= 0 and q_offset < len(query) and s_offset < len(sequence):\n",
    "            count += 1\n",
    "            if query[q_offset] == sequence[s_offset]:\n",
    "                matches += 1\n",
    "            if 2 * matches < count:\n",
    "                break\n",
    "            q_offset += direction\n",
    "            s_offset += direction\n",
    "        return q_offset - direction, s_offset - direction, matches, count\n",
    "\n",
    "    def extend_hit(self, query, seq, hit, w):\n",
    "    #given a hit, will extend the search of matches to left and right    \n",
    "        o1, o2 = hit\n",
    "        left  = self.extend_hit_dir(query, seq, o1 - 1, o2 - 1, -1)\n",
    "        right = self.extend_hit_dir(query, seq, o1 + w, o2 + w, +1)\n",
    "\n",
    "        O1, O2, ML, SL = left\n",
    "        _,   _, MR, SR = right\n",
    "\n",
    "#         print({'ML':ML, 'SR':SR, 'SL':SL,'MR':MR})\n",
    "        return O1, O2, w + SL + SR, ML + w + MR\n",
    "    \n",
    "    def best_hit(self, query, seq, w):\n",
    "    #finds best hit from all hits and respective extensions\n",
    "        query_map = self.query_map(query)\n",
    "        hits = self.hits(query_map, seq)\n",
    "        best_hit = None\n",
    "        best_score = -1\n",
    "        for hit in hits:\n",
    "            o1, o2, l, m = self.extend_hit(query, seq, hit, w)\n",
    "            score = m - (l - m)\n",
    "            if score > best_score or (score == best_score and l < best_hit[2]):\n",
    "                best_hit = (o1, o2, l, m)\n",
    "                best_score = score\n",
    "        return best_hit\n",
    "    \n",
    "# best_hit = (A,B,C,D)\n",
    "# A = start position of the best match in the query\n",
    "# B = starting position of the best match in the sequence\n",
    "# C = best match size\n",
    "# D = number of matches between nucleotides of the best match"
   ]
  },
  {
   "cell_type": "code",
   "execution_count": 31,
   "id": "1933c58e",
   "metadata": {},
   "outputs": [
    {
     "name": "stderr",
     "output_type": "stream",
     "text": [
      "test_best_hit (__main__.TestSBlast) ... ok\n",
      "test_extend_hit (__main__.TestSBlast) ... ok\n",
      "test_extend_hit_dir (__main__.TestSBlast) ... ok\n",
      "test_hits (__main__.TestSBlast) ... ok\n",
      "test_querymap (__main__.TestSBlast) ... ok\n",
      "\n",
      "----------------------------------------------------------------------\n",
      "Ran 5 tests in 0.008s\n",
      "\n",
      "OK\n"
     ]
    },
    {
     "data": {
      "text/plain": [
       "<unittest.runner.TextTestResult run=5 errors=0 failures=0>"
      ]
     },
     "execution_count": 31,
     "metadata": {},
     "output_type": "execute_result"
    }
   ],
   "source": [
    "class TestSBlast(unittest.TestCase):\n",
    "    w = 3\n",
    "    seq = 'AATATGTTATATAATAATATTT'\n",
    "    query = 'AATATAT'\n",
    "    sb = SimpleBlast(w,seq)\n",
    "    result_qm = {'AAT': [0], 'ATA': [1, 3], 'TAT': [2, 4]}\n",
    "    \n",
    "    def test_querymap(self):\n",
    "        self.assertEqual(self.sb.query_map(self.query),self.result_qm)\n",
    "        \n",
    "    def test_hits(self):\n",
    "        result_hit = [(0, 0), (0, 12), (0, 15), (1, 1), (1, 8), (1, 10), (1, 13), (1, 16),\n",
    "                    (3, 1), (3, 8), (3, 10), (3, 13), (3, 16), (2, 2), (2, 7), (2, 9),\n",
    "                    (2, 17), (4, 2), (4, 7), (4, 9), (4, 17)]\n",
    "        self.assertEqual(set(self.sb.hits(self.result_qm, self.seq)), set(result_hit))\n",
    "        \n",
    "    def test_extend_hit_dir(self):\n",
    "        self.assertEqual(self.sb.extend_hit_dir(query, seq, 1, 16, -1), (0, 15, 2, 2))\n",
    "        self.assertEqual(self.sb.extend_hit_dir(query, seq, 1, 16, 1), (6, 21, 5, 6))\n",
    "        \n",
    "    def test_extend_hit(self):\n",
    "        self.assertEqual(self.sb.extend_hit(query, seq, (1,16), w), (0, 15, 7, 6))\n",
    "    \n",
    "    def test_best_hit(self):\n",
    "        self.assertEqual(self.sb.best_hit(query, seq, w), (0, 0, 7, 6))  \n",
    "\n",
    "suite = unittest.TestLoader().loadTestsFromTestCase(TestSBlast)\n",
    "unittest.TextTestRunner( verbosity=3 ).run( suite )    "
   ]
  },
  {
   "cell_type": "code",
   "execution_count": 144,
   "id": "6b76d517",
   "metadata": {},
   "outputs": [],
   "source": [
    "#final\n",
    "class BlastResults:\n",
    "    def __init__(self, query, w, password):\n",
    "        self.query = query\n",
    "        self.w = w\n",
    "        self.password = password\n",
    "        self.sequences_obj = DB(password)\n",
    "        self.ids_obj = DB(password)\n",
    "        self.sequences_obj.extract_sequences()\n",
    "        self.ids_obj.extract_ids()\n",
    "  \n",
    "    def process_results(self):\n",
    "    #joins the best_hit to respective id_genebank (from database)\n",
    "        all_seqs = []\n",
    "        for num, seq in enumerate(self.sequences_obj.sequences):\n",
    "            seq_id = []\n",
    "            seq = ''.join(seq)\n",
    "            blast = SimpleBlast(self.w, seq)\n",
    "            results = blast.best_hit(self.query, seq, self.w)\n",
    "            seq_id.append(results)\n",
    "            seq_id.append(''.join(self.ids_obj.sequences[num]))\n",
    "            all_seqs.append(seq_id)\n",
    "        return all_seqs\n",
    "        \n",
    "    def sort_results(self):\n",
    "        def sort_key(item):\n",
    "        #sorting the tuple by the last number\n",
    "            if item[0]:\n",
    "                return item[0][-1]\n",
    "            return 0\n",
    "        return sorted(self.process_results(), key=sort_key, reverse=True)\n",
    "        \n",
    "    def printing(self):\n",
    "        # organized printing\n",
    "        print(\n",
    "            '{:>9} {:>15} {:>18} {:>12}  {:>5}'.format('Query position', 'Seq position', 'Length of match', 'Max match',\n",
    "                                                       'Id'))\n",
    "        for i in self.sort_results():\n",
    "#             if i[0]:\n",
    "            print(i)\n",
    "#             print('{:>6} {:>18} {:>15} {:>16}      |'.format(*i[0]), i[1])\n",
    "        return '_______________________________________________________________'"
   ]
  },
  {
   "cell_type": "code",
   "execution_count": 131,
   "id": "1fe646a3",
   "metadata": {},
   "outputs": [
    {
     "ename": "SyntaxError",
     "evalue": "invalid syntax (2134333747.py, line 8)",
     "output_type": "error",
     "traceback": [
      "\u001b[1;36m  Input \u001b[1;32mIn [131]\u001b[1;36m\u001b[0m\n\u001b[1;33m    self.assertEqual(self.tmp1_results.process_results()[9], [, 'DS196524.1'])\u001b[0m\n\u001b[1;37m                                                              ^\u001b[0m\n\u001b[1;31mSyntaxError\u001b[0m\u001b[1;31m:\u001b[0m invalid syntax\n"
     ]
    }
   ],
   "source": [
    "class TestRBlast(unittest.TestCase):\n",
    "    query = \"ACTG\"\n",
    "    w = 3\n",
    "    tmp1_results = BlastResults(\"ACTGAAA\", 3, \"20221207\")\n",
    "    tmp1_results = BlastResults(\"ACTGAAA\", 3, \"20221207\")\n",
    "    \n",
    "    def test_process_results(self):\n",
    "        self.assertEqual(self.tmp1_results.process_results()[9], [, 'DS196524.1'])\n",
    "    \n",
    "suite = unittest.TestLoader().loadTestsFromTestCase(TestRBlast)\n",
    "unittest.TextTestRunner( verbosity=3 ).run( suite )  "
   ]
  },
  {
   "cell_type": "code",
   "execution_count": 139,
   "id": "c33d2419",
   "metadata": {},
   "outputs": [
    {
     "name": "stderr",
     "output_type": "stream",
     "text": [
      "test_process_results (__main__.TestBlastResults) ... ok\n",
      "\n",
      "----------------------------------------------------------------------\n",
      "Ran 1 test in 0.479s\n",
      "\n",
      "OK\n"
     ]
    },
    {
     "data": {
      "text/plain": [
       "<unittest.runner.TextTestResult run=1 errors=0 failures=0>"
      ]
     },
     "execution_count": 139,
     "metadata": {},
     "output_type": "execute_result"
    }
   ],
   "source": [
    "import unittest\n",
    "\n",
    "class TestBlastResults(unittest.TestCase):\n",
    "    def setUp(self):\n",
    "        self.query = \"X\"\n",
    "        self.w = 2\n",
    "        self.password = \"20221207\"\n",
    "        self.blast_results = BlastResults(self.query, self.w, self.password)\n",
    "\n",
    "    def test_process_results(self):\n",
    "        all_seqs = self.blast_results.process_results()\n",
    "        self.assertIsNotNone(all_seqs)\n",
    "        self.assertIsInstance(all_seqs, list)\n",
    "        self.assertGreater(len(all_seqs), 0)\n",
    "        self.assertIsInstance(all_seqs[0], list)\n",
    "        self.assertEqual(len(all_seqs[0]), 2)\n",
    "\n",
    "#     def test_sort_results(self):\n",
    "#         sorted_results = self.blast_results.sort_results()\n",
    "#         self.assertIsNotNone(sorted_results)\n",
    "#         self.assertIsInstance(sorted_results, list)\n",
    "#         self.assertGreater(len(sorted_results), 0)\n",
    "#         self.assertIsInstance(sorted_results[0], list)\n",
    "#         self.assertEqual(len(sorted_results[0]), 2)\n",
    "#         self.assertEqual(sorted(sorted_results, key=lambda x: x[0][-1], reverse=True), sorted_results)\n",
    "        \n",
    "suite = unittest.TestLoader().loadTestsFromTestCase(TestBlastResults)\n",
    "unittest.TextTestRunner( verbosity=3 ).run( suite )  \n"
   ]
  },
  {
   "cell_type": "code",
   "execution_count": 145,
   "id": "b195cda7",
   "metadata": {},
   "outputs": [
    {
     "name": "stdout",
     "output_type": "stream",
     "text": [
      "Query position    Seq position    Length of match    Max match     Id\n",
      "[(0, 8, 7, 6), 'DH405380.1']\n",
      "[None, 'A00829.1']\n",
      "[None, 'AAADK0043071.1']\n",
      "[None, 'AAADS0003348.1']\n",
      "[None, 'AAADW0009410.1']\n",
      "[None, 'AAADX0043451.1']\n",
      "[None, 'AAVX01203288.1']\n",
      "[None, 'ABAAM0346030.1']\n",
      "[None, 'BAAF03073813.1']\n",
      "[None, 'DS196524.1']\n",
      "[None, 'EC923692.1']\n",
      "[None, 'EC966285.1']\n",
      "[None, 'M97702.1']\n",
      "[None, 'X65482.1']\n",
      "[None, 'X68316.1']\n"
     ]
    },
    {
     "data": {
      "text/plain": [
       "'_______________________________________________________________'"
      ]
     },
     "execution_count": 145,
     "metadata": {},
     "output_type": "execute_result"
    }
   ],
   "source": [
    "query = \"AAAAAAAAAAA\"\n",
    "w = 6\n",
    "# try:\n",
    "blast_results = BlastResults(query, w, \"20221207\")\n",
    "# if blast_results == \"The password is wrong\":\n",
    "#     print('a')\n",
    "# except:\n",
    "#     print(\"Something went wrong\")\n",
    "blast_results.process_results()\n",
    "blast_results.printing()\n"
   ]
  },
  {
   "cell_type": "code",
   "execution_count": 28,
   "id": "070c96bb",
   "metadata": {},
   "outputs": [
    {
     "data": {
      "text/plain": [
       "(0, 0, 7, 6)"
      ]
     },
     "execution_count": 28,
     "metadata": {},
     "output_type": "execute_result"
    }
   ],
   "source": [
    "query = \"AATATAT\"\n",
    "seq = \"AATATGTTATATAATAATATTT\"\n",
    "w = 3\n",
    "blast_results = SimpleBlast(w, seq)\n",
    "query_ma=blast_results.query_map(query)\n",
    "blast_results.hits(query_ma, seq)\n",
    "blast_results.extend_hit_dir(query, seq, 1, 16, 1)\n",
    "blast_results.extend_hit(query, seq, (1,16), w)\n",
    "blast_results.best_hit( query, seq, w)"
   ]
  },
  {
   "cell_type": "code",
   "execution_count": 38,
   "id": "5f483565",
   "metadata": {},
   "outputs": [
    {
     "name": "stdout",
     "output_type": "stream",
     "text": [
      "Insert your sequence query here: 2\n"
     ]
    }
   ],
   "source": [
    "query = input(\"Insert your sequence query here: \")\n",
    "w = input(\"What is the length of the query (w)? \")\n",
    "pw = input(\"Password of the Database: \")"
   ]
  },
  {
   "cell_type": "code",
   "execution_count": null,
   "id": "a0016b2d",
   "metadata": {},
   "outputs": [],
   "source": [
    "try:\n",
    "    query = input(\"Insert your sequence query here: \")\n",
    "    if query.isalpha():\n",
    "        w = input(\"What is the length of the query (w)? \")\n",
    "             \n",
    "except:\n",
    "    print(\"Invalid query\")\n",
    "#     pw = input(\"Password of the Database: \")\n",
    "#     if pw !="
   ]
  }
 ],
 "metadata": {
  "kernelspec": {
   "display_name": "Python 3 (ipykernel)",
   "language": "python",
   "name": "python3"
  },
  "language_info": {
   "codemirror_mode": {
    "name": "ipython",
    "version": 3
   },
   "file_extension": ".py",
   "mimetype": "text/x-python",
   "name": "python",
   "nbconvert_exporter": "python",
   "pygments_lexer": "ipython3",
   "version": "3.9.12"
  }
 },
 "nbformat": 4,
 "nbformat_minor": 5
}
