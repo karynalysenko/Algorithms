{
 "cells": [
  {
   "cell_type": "code",
   "execution_count": 6,
   "id": "c6da577c",
   "metadata": {},
   "outputs": [],
   "source": [
    "import mysql.connector as SQLC\n",
    "def search_db(query):\n",
    "    cnx = SQLC.connect(\n",
    "            host =\"geo.di.uminho.pt\",\n",
    "            user =\"bioinformatica\",\n",
    "            password =\"20221207\",\n",
    "            database =\"AP_db_KRG\")\n",
    "    cursor = cnx.cursor()\n",
    "    cursor.execute(\"SELECT sequence FROM Gene\")\n",
    "    sequences = cursor.fetchall()\n",
    "    cursor.close()\n",
    "    return sequences\n",
    "sequences=search_db(\"A\")"
   ]
  },
  {
   "cell_type": "code",
   "execution_count": 53,
   "id": "2cd0b930",
   "metadata": {},
   "outputs": [],
   "source": [
    "#FINAL\n",
    "class Blast:\n",
    "    def __init__(self, w, seq):\n",
    "        self.w = w\n",
    "        self.seq = seq\n",
    "\n",
    "    def query_map(self, query):\n",
    "        query_map = {}\n",
    "        for i in range(len(query) - self.w + 1):\n",
    "            window = query[i: i + self.w]\n",
    "            if window in query_map:\n",
    "                query_map[window].append(i)\n",
    "            else:\n",
    "                query_map[window] = [i]\n",
    "        return query_map\n",
    "\n",
    "    def hits(self, query_map, sequence):\n",
    "        hits = []\n",
    "        for window, query_offsets in query_map.items():\n",
    "            if window in sequence:\n",
    "                seq_offset = sequence.find(window)\n",
    "                while seq_offset != -1:\n",
    "                    for query_offset in query_offsets:\n",
    "                        hits.append((query_offset, seq_offset))\n",
    "                    seq_offset = sequence.find(window, seq_offset + 1)\n",
    "        return hits\n",
    "\n",
    "    def extend_hit_dir(self, query, sequence, q_offset, s_offset, direction):\n",
    "        count = 0\n",
    "        matches = 0\n",
    "        while q_offset >= 0 and s_offset >= 0 and q_offset < len(query) and s_offset < len(sequence) and query[q_offset] == sequence[s_offset]:\n",
    "            count += 1\n",
    "            matches += 1 if query[q_offset] == sequence[s_offset] else 0\n",
    "            q_offset += direction\n",
    "            s_offset += direction\n",
    "        return q_offset - direction, s_offset - direction, matches, count\n",
    "\n",
    "    def best_hit(self, query, sequence, w):\n",
    "        query_map = self.query_map(query)\n",
    "        hits = self.hits(query_map, sequence)\n",
    "        best_score = -1\n",
    "        best_hit = None\n",
    "        for hit in hits:\n",
    "            o1, o2, matches, count = self.extend_hit_dir(query, sequence, hit[0], hit[1], 1)\n",
    "            o1_start, o2_start = o1 - count + 1, o2 - count + 1\n",
    "            o1, o2, matches, count = self.extend_hit_dir(query, sequence, o1_start, o2_start, -1)\n",
    "            score = matches / count\n",
    "            if score > best_score or (score == best_score and count < best_hit[2]):\n",
    "                best_score = score\n",
    "                best_hit = (o1_start, o2_start, count, matches)\n",
    "        return best_hit"
   ]
  },
  {
   "cell_type": "code",
   "execution_count": 55,
   "id": "7ab6b9f3",
   "metadata": {},
   "outputs": [
    {
     "name": "stdout",
     "output_type": "stream",
     "text": [
      "(0, 0, 1, 1)\n"
     ]
    }
   ],
   "source": [
    "query = \"AATATAT\"\n",
    "seq = \"AATATGTTATATAATAATATTT\"\n",
    "w = 3\n",
    "blast = Blast(w, seq)\n",
    "# result = blast.hits(blast.query_map(query), seq)\n",
    "# print(result)\n",
    "results = blast.best_hit(query, seq, w)\n",
    "print(results)"
   ]
  },
  {
   "cell_type": "code",
   "execution_count": 73,
   "id": "d5ddbcf5",
   "metadata": {},
   "outputs": [
    {
     "name": "stdout",
     "output_type": "stream",
     "text": [
      "(0, 0, 1, 1)\n",
      "None\n",
      "(1, 11, 1, 1)\n",
      "(2, 17, 1, 1)\n",
      "None\n",
      "(0, 10, 1, 1)\n",
      "(2, 16, 1, 1)\n",
      "(0, 23, 1, 1)\n",
      "(0, 45, 1, 1)\n",
      "None\n",
      "None\n",
      "(3, 29, 1, 1)\n",
      "(0, 27, 1, 1)\n",
      "(1, 35, 1, 1)\n",
      "(2, 17, 1, 1)\n"
     ]
    }
   ],
   "source": [
    "query = \"TACCTTG\"\n",
    "w = 3\n",
    "for i in sequences:\n",
    "    seq=''.join(i)\n",
    "    blast = Blast(w, seq)\n",
    "    results = blast.best_hit(query, seq, w)\n",
    "    print(results)"
   ]
  },
  {
   "cell_type": "code",
   "execution_count": 5,
   "id": "98818671",
   "metadata": {},
   "outputs": [
    {
     "name": "stdout",
     "output_type": "stream",
     "text": [
      "[('TACCTTGTCCGAAAAGGAAAGACAAATCAAGAAGCAAACTGCTTTGGTTG',), ('CAACACGGGAAACCTCACCC',), ('GGGATGGAAGATGGCGGCCTA',), ('TCACATGGAGTACCACTAAGTTATTTGTAATATTTAATAAAGGAAATCTC',), ('GTTTGGTGAACTTCTGCCTA',), ('CCAAGAACAAATAACTTGTAAAATACACTGTTTTTTCACTGCAAATGTGT',), ('TGTGAATGAAAAAAGCAGCCAGTCAGTAGGAAACACTGTCTTGTATACAC',), ('TTTTTTTTTTTTTTTAACAATGGAGAAATCCATCAAAACATGGGTCATTT',), ('TTTTTTAAGTCAGTAAAAAGTAGGCACATCTTTATTTGGCAATGTCATAT',), ('GAATTCGTGCGCAACGCAATCCGGAAGTACAAGCAACTGCAGAAGCTGGT',), ('GGAAGTAAAAGTCGTAACAAGGTCTCCGTTGGTGAACCAGCGGAGGGATC',), ('NNNNNNNAGAGTTTGATCCTGGCTCAGGACGAACGCTGGCGGCGTGCCTA',)]\n"
     ]
    },
    {
     "data": {
      "text/plain": [
       "[('TACCTTGTCCGAAAAGGAAAGACAAATCAAGAAGCAAACTGCTTTGGTTG',),\n",
       " ('CAACACGGGAAACCTCACCC',),\n",
       " ('GGGATGGAAGATGGCGGCCTA',),\n",
       " ('TCACATGGAGTACCACTAAGTTATTTGTAATATTTAATAAAGGAAATCTC',),\n",
       " ('GTTTGGTGAACTTCTGCCTA',),\n",
       " ('CCAAGAACAAATAACTTGTAAAATACACTGTTTTTTCACTGCAAATGTGT',),\n",
       " ('TGTGAATGAAAAAAGCAGCCAGTCAGTAGGAAACACTGTCTTGTATACAC',),\n",
       " ('TTTTTTTTTTTTTTTAACAATGGAGAAATCCATCAAAACATGGGTCATTT',),\n",
       " ('TTTTTTAAGTCAGTAAAAAGTAGGCACATCTTTATTTGGCAATGTCATAT',),\n",
       " ('GAATTCGTGCGCAACGCAATCCGGAAGTACAAGCAACTGCAGAAGCTGGT',),\n",
       " ('GGAAGTAAAAGTCGTAACAAGGTCTCCGTTGGTGAACCAGCGGAGGGATC',),\n",
       " ('NNNNNNNAGAGTTTGATCCTGGCTCAGGACGAACGCTGGCGGCGTGCCTA',)]"
      ]
     },
     "execution_count": 5,
     "metadata": {},
     "output_type": "execute_result"
    }
   ],
   "source": [
    "def search_db(query):\n",
    "    cnx = SQLC.connect(\n",
    "            host =\"geo.di.uminho.pt\",\n",
    "            user =\"bioinformatica\",\n",
    "            password =\"20221207\",\n",
    "            database =\"AP_db_KRG\")\n",
    "    cursor = cnx.cursor()\n",
    "    cursor.execute(\"SELECT sequence FROM Gene WHERE sequence LIKE %s\", ('%'+query+'%',))\n",
    "    sequences = cursor.fetchall()\n",
    "    print(sequences)\n",
    "    cursor.close()\n",
    "    return sequences\n",
    "search_db(\"AA\")"
   ]
  }
 ],
 "metadata": {
  "kernelspec": {
   "display_name": "Python 3 (ipykernel)",
   "language": "python",
   "name": "python3"
  },
  "language_info": {
   "codemirror_mode": {
    "name": "ipython",
    "version": 3
   },
   "file_extension": ".py",
   "mimetype": "text/x-python",
   "name": "python",
   "nbconvert_exporter": "python",
   "pygments_lexer": "ipython3",
   "version": "3.9.12"
  }
 },
 "nbformat": 4,
 "nbformat_minor": 5
}
