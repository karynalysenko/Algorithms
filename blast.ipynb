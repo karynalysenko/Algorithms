{
 "cells": [
  {
   "cell_type": "code",
   "execution_count": 110,
   "id": "37738d1c",
   "metadata": {},
   "outputs": [],
   "source": [
    "import mysql.connector\n",
    "\n",
    "class Blast:\n",
    "    def __init__(self, window):\n",
    "        self.window = window\n",
    "        self.cnx = SQLC.connect(\n",
    "            host =\"geo.di.uminho.pt\",\n",
    "            user =\"bioinformatica\",\n",
    "            password =\"20221207\",\n",
    "            database =\"AP_db_KRG\"\n",
    "        )\n",
    "    def search_db(self, query):\n",
    "        cursor = self.cnx.cursor()\n",
    "        cursor.execute(\"SELECT sequence FROM Gene WHERE sequence LIKE %s\", ('%'+query+'%',))\n",
    "        sequences = cursor.fetchall()\n",
    "        cursor.close()\n",
    "        if sequences:\n",
    "            self.sequence = sequences[0][0]\n",
    "            return True\n",
    "        else:\n",
    "            return False\n",
    "\n",
    "    def hits(self, query_map, sequence):\n",
    "        hits = []\n",
    "        for i in range(len(sequence) - self.window):\n",
    "            window = sequence[i:i+self.window]\n",
    "            score = 0\n",
    "            for q in query_map:\n",
    "                if window.count(q) > 0:\n",
    "                    score += 1\n",
    "            if score == len(query_map):\n",
    "                hits.append((i, window))\n",
    "        return hits\n",
    "\n",
    "    def query_map(self, query):\n",
    "        return set(query)\n",
    "\n",
    "    def run_blast(self, query):\n",
    "        if self.search_db(query):\n",
    "            qm = self.query_map(query)\n",
    "            all_hits = self.hits(qm, self.sequence)\n",
    "            return all_hits\n",
    "        else:\n",
    "            return \"No results found.\"\n",
    "\n",
    "\n"
   ]
  },
  {
   "cell_type": "code",
   "execution_count": 111,
   "id": "878cb4cd",
   "metadata": {},
   "outputs": [
    {
     "name": "stdout",
     "output_type": "stream",
     "text": [
      "Enter a sequence: TACCTT\n",
      "[(0, 'TACCTTGTCC...CCAAAGG'), (1, 'ACCTTGTCC...CCAAAGGG'), (2, 'CCTTGTCC...CCAAAGGGC')]\n"
     ]
    }
   ],
   "source": [
    "# Usage example\n",
    "blast = Blast(20)\n",
    "query = input(\"Enter a sequence: \")\n",
    "results = blast.run_blast(query)\n",
    "print(results)"
   ]
  },
  {
   "cell_type": "code",
   "execution_count": 135,
   "id": "63587346",
   "metadata": {},
   "outputs": [],
   "source": [
    "class Blast:\n",
    "    def __init__(self, w):\n",
    "        self.w = w\n",
    "        self.cnx = SQLC.connect(\n",
    "            host =\"geo.di.uminho.pt\",\n",
    "            user =\"bioinformatica\",\n",
    "            password =\"20221207\",\n",
    "            database =\"AP_db_KRG\"\n",
    "        )\n",
    "\n",
    "    def search_db(self, query):\n",
    "        cursor = self.cnx.cursor()\n",
    "        cursor.execute(\"SELECT sequence FROM Gene WHERE sequence LIKE %s\", ('%'+query+'%',))\n",
    "        sequences = cursor.fetchall()\n",
    "        cursor.close()\n",
    "        if sequences:\n",
    "            self.sequences = sequences\n",
    "            return True\n",
    "        else:\n",
    "            return False\n",
    "\n",
    "    def query_map(self, query):\n",
    "        tam = len(query)\n",
    "        res = {}\n",
    "        for chave, offset in [(query[p: p + self.w], p) for p in range(0, tam - self.w + 1)]:\n",
    "            if chave not in res: res[chave] = []\n",
    "            res[chave].append(offset)\n",
    "        return res\n",
    "\n",
    "    def get_all_offsets(self, s1, s2):\n",
    "        w = len(s1)\n",
    "        res = []\n",
    "        for p in range(0, len(s2) - w + 1):\n",
    "            if s2[p : p + w] == s1:\n",
    "                res.append(p)\n",
    "        return res\n",
    "\n",
    "    def hits(self, query_map, sequences):\n",
    "        res = []\n",
    "        for chave, offsets in query_map.items():\n",
    "            for o_query in offsets:\n",
    "                for o_seq in self.get_all_offsets(chave, sequences):\n",
    "                    res.append((o_query, o_seq))\n",
    "        return res\n",
    "\n",
    "    def extend_hit_dir(self, query, seq, o1, o2, direction):\n",
    "        matches = 0\n",
    "        count = 0\n",
    "        while o1 >= 0 and o2 >= 0 and o1 < len(query) and o2 < len(seq):\n",
    "            matches += 1 if query[o1] == seq[o2] else 0\n",
    "            count += 1\n",
    "            if 2 * matches < count:\n",
    "                return o1, o2, matches, count - 1\n",
    "            o1 += direction\n",
    "            o2 += direction\n",
    "        return o1 - direction, o2 - direction, matches, count\n",
    "\n",
    "    def extend_hit(self, query, seq, hit, w):\n",
    "        o1, o2 = hit\n",
    "        left  = self.extend_hit_dir(query, seq, o1 - 1, o2 - 1, -1)\n",
    "        right = self.extend_hit_dir(query, seq, o1 + w, o2 + w, +1)\n",
    "\n",
    "        O1, O2, ML, SL = left\n",
    "        _,   _, MR, SR = right\n",
    "\n",
    "        return O1, O2, w + SL + SR, ML + w + MR\n",
    "\n",
    "    def run_blast(self, query):\n",
    "        if self.search_db(query):\n",
    "            query_map = self.query_map(query)\n",
    "            all_hits = self.hits(query_map, self.sequences)\n",
    "            final_hits = []\n",
    "            for hit in all_hits:\n",
    "                extend_hit_res = self.extend_hit(query, self.sequences, hit, self.w)\n",
    "                final_hits.append((query, hit[0], hit[1], extend_hit_res[2], extend_hit_res[3]))\n",
    "            return final_hits\n",
    "        else:\n",
    "            return \"No results found.\"\n"
   ]
  },
  {
   "cell_type": "code",
   "execution_count": 136,
   "id": "a7dd2604",
   "metadata": {},
   "outputs": [
    {
     "name": "stdout",
     "output_type": "stream",
     "text": [
      "Enter a sequence: CCAAAGGGCC\n",
      "[]\n"
     ]
    }
   ],
   "source": [
    "blast = Blast(15)\n",
    "query = input(\"Enter a sequence: \")\n",
    "results = blast.run_blast(query)\n",
    "print(results)"
   ]
  },
  {
   "cell_type": "code",
   "execution_count": 154,
   "id": "fe35c51b",
   "metadata": {},
   "outputs": [],
   "source": [
    "class Blast:\n",
    "    def __init__(self, w):\n",
    "        self.w = w\n",
    "        self.cnx = SQLC.connect(\n",
    "            host =\"geo.di.uminho.pt\",\n",
    "            user =\"bioinformatica\",\n",
    "            password =\"20221207\",\n",
    "            database =\"AP_db_KRG\"\n",
    "        )\n",
    "    def search_db(self, query):\n",
    "        cursor = self.cnx.cursor()\n",
    "        cursor.execute(\"SELECT sequence FROM Gene WHERE sequence LIKE %s\", ('%'+query+'%',))\n",
    "        sequences = cursor.fetchall()\n",
    "        cursor.close()\n",
    "        return sequences\n",
    "        \n",
    "    def query_map(self, query):\n",
    "        tam = len(query)\n",
    "        res = {}\n",
    "        for chave, offset in [(query[p: p + self.w], p) for p in range(0, tam - self.w + 1)]:\n",
    "            if chave not in res: res[chave] = []\n",
    "            res[chave].append(offset)\n",
    "        return res\n",
    "        \n",
    "    def get_all_offsets(self, s1, s2):\n",
    "        w = len(s1)\n",
    "        res = []\n",
    "        for p in range(0, len(s2) - w + 1):\n",
    "            if s2[p : p + w] == s1:\n",
    "                res.append(p)\n",
    "        return res\n",
    "    \n",
    "    def hits(self, query_map, sequence, w):\n",
    "        res = []\n",
    "        for chave, offsets in query_map.items():\n",
    "            for o_query in offsets:\n",
    "                for o_seq in self.get_all_offsets(chave, sequence):\n",
    "                    res.append((o_query, o_seq))\n",
    "        return res\n",
    "\n",
    "    def run_blast(self, query):\n",
    "        sequences = self.search_db(query)\n",
    "        print(sequences)\n",
    "        if sequences:\n",
    "            qm = self.query_map(query)\n",
    "            all_hits = []\n",
    "            for sequence in sequences:\n",
    "                all_hits.extend(self.hits(qm, sequence, self.w))\n",
    "            return all_hits\n",
    "        else:\n",
    "            return \"No results found.\"\n"
   ]
  },
  {
   "cell_type": "code",
   "execution_count": 156,
   "id": "8294806d",
   "metadata": {},
   "outputs": [
    {
     "name": "stdout",
     "output_type": "stream",
     "text": [
      "Enter a sequence: TACCTT\n",
      "[('TACCTTGTCC...CCAAAGGGCC',)]\n",
      "[]\n"
     ]
    }
   ],
   "source": [
    "blast = Blast(15)\n",
    "query = input(\"Enter a sequence: \")\n",
    "results = blast.run_blast(query)\n",
    "print(results)"
   ]
  },
  {
   "cell_type": "code",
   "execution_count": 150,
   "id": "98818671",
   "metadata": {},
   "outputs": [
    {
     "name": "stdout",
     "output_type": "stream",
     "text": [
      "[('TACCTTGTCC...CCAAAGGGCC',), ('CAACACGGGA...AACCTCACCC',), ('GGGATGGAAG...TGGCGGCCTA',), ('GTTTGGTGAA...CTTCTGCCTA',), ('CCAAGAACAA...GCCTCTGACA',), ('TGTGAATGAA...GTTTGGCCGT',), ('TTTTTTAAGT...GGGTTCATCC',), ('GAATTCGTGC...CGGGGAATTC',), ('GGAAGTAAAA...AAGCGGAGGA',)]\n"
     ]
    },
    {
     "data": {
      "text/plain": [
       "[('TACCTTGTCC...CCAAAGGGCC',),\n",
       " ('CAACACGGGA...AACCTCACCC',),\n",
       " ('GGGATGGAAG...TGGCGGCCTA',),\n",
       " ('GTTTGGTGAA...CTTCTGCCTA',),\n",
       " ('CCAAGAACAA...GCCTCTGACA',),\n",
       " ('TGTGAATGAA...GTTTGGCCGT',),\n",
       " ('TTTTTTAAGT...GGGTTCATCC',),\n",
       " ('GAATTCGTGC...CGGGGAATTC',),\n",
       " ('GGAAGTAAAA...AAGCGGAGGA',)]"
      ]
     },
     "execution_count": 150,
     "metadata": {},
     "output_type": "execute_result"
    }
   ],
   "source": [
    "def search_db(query):\n",
    "    cnx = SQLC.connect(\n",
    "            host =\"geo.di.uminho.pt\",\n",
    "            user =\"bioinformatica\",\n",
    "            password =\"20221207\",\n",
    "            database =\"AP_db_KRG\")\n",
    "    cursor = cnx.cursor()\n",
    "    cursor.execute(\"SELECT sequence FROM Gene WHERE sequence LIKE %s\", ('%'+query+'%',))\n",
    "    sequences = cursor.fetchall()\n",
    "    print(sequences)\n",
    "    cursor.close()\n",
    "    return sequences\n",
    "search_db(\"AA\")"
   ]
  }
 ],
 "metadata": {
  "kernelspec": {
   "display_name": "Python 3 (ipykernel)",
   "language": "python",
   "name": "python3"
  },
  "language_info": {
   "codemirror_mode": {
    "name": "ipython",
    "version": 3
   },
   "file_extension": ".py",
   "mimetype": "text/x-python",
   "name": "python",
   "nbconvert_exporter": "python",
   "pygments_lexer": "ipython3",
   "version": "3.9.12"
  }
 },
 "nbformat": 4,
 "nbformat_minor": 5
}
