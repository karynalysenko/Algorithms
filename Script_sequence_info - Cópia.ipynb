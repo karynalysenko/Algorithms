{
 "cells": [
  {
   "cell_type": "markdown",
   "id": "7979ffe5",
   "metadata": {},
   "source": [
    "__Goal__ Implementation of sequence manipulation algorithms: transcription, translation, ORFs, extraction of all potential proteins"
   ]
  },
  {
   "cell_type": "code",
   "execution_count": 102,
   "id": "e37ecbb6",
   "metadata": {},
   "outputs": [
    {
     "data": {
      "text/plain": [
       "'Don´t exist'"
      ]
     },
     "execution_count": 102,
     "metadata": {},
     "output_type": "execute_result"
    }
   ],
   "source": [
    "#function that allows us to associate a codon with an amino acid- Human\n",
    "def translate_codon(cod):\n",
    "    \"\"\"Translates a codon into an aminoacid using an internal dictionary with the standard genetic code.\"\"\"\n",
    "    tc = {\"GCT\":\"A\", \"GCC\":\"A\", \"GCA\":\"A\", \"GCG\":\"A\", \n",
    "      \"TGT\":\"C\", \"TGC\":\"C\",\n",
    "      \"GAT\":\"D\", \"GAC\":\"D\",\n",
    "      \"GAA\":\"E\", \"GAG\":\"E\",\n",
    "      \"TTT\":\"F\", \"TTC\":\"F\",\n",
    "      \"GGT\":\"G\", \"GGC\":\"G\", \"GGA\":\"G\", \"GGG\":\"G\",\n",
    "      \"CAT\":\"H\", \"CAC\":\"H\",\n",
    "      \"ATA\":\"I\", \"ATT\":\"I\", \"ATC\":\"I\",\n",
    "      \"AAA\":\"K\", \"AAG\":\"K\",\n",
    "      \"TTA\":\"L\", \"TTG\":\"L\", \"CTT\":\"L\", \"CTC\":\"L\", \"CTA\":\"L\", \"CTG\":\"L\",\n",
    "      \"ATG\":\"M\", \"AAT\":\"N\", \"AAC\":\"N\",\n",
    "      \"CCT\":\"P\", \"CCC\":\"P\", \"CCA\":\"P\", \"CCG\":\"P\",\n",
    "      \"CAA\":\"Q\", \"CAG\":\"Q\",\n",
    "      \"CGT\":\"R\", \"CGC\":\"R\", \"CGA\":\"R\", \"CGG\":\"R\", \"AGA\":\"R\", \"AGG\":\"R\",\n",
    "      \"TCT\":\"S\", \"TCC\":\"S\", \"TCA\":\"S\", \"TCG\":\"S\", \"AGT\":\"S\", \"AGC\":\"S\",\n",
    "      \"ACT\":\"T\", \"ACC\":\"T\", \"ACA\":\"T\", \"ACG\":\"T\",\n",
    "      \"GTT\":\"V\", \"GTC\":\"V\", \"GTA\":\"V\", \"GTG\":\"V\",\n",
    "      \"TGG\":\"W\",\n",
    "      \"TAT\":\"Y\", \"TAC\":\"Y\",\n",
    "      \"TAA\":\"_\", \"TAG\":\"_\", \"TGA\":\"_\"}\n",
    "    if cod in tc: return tc[cod] \n",
    "    else: return \"Don´t exist\"\n",
    "translate_codon(\"xbt\")"
   ]
  },
  {
   "cell_type": "code",
   "execution_count": null,
   "id": "9c9ab58a",
   "metadata": {},
   "outputs": [],
   "source": [
    "#talvez colocar mais possibilidade porque eu penso que a tradução muda para cada organismo??"
   ]
  },
  {
   "cell_type": "code",
   "execution_count": 124,
   "id": "afd327cf",
   "metadata": {},
   "outputs": [
    {
     "name": "stdout",
     "output_type": "stream",
     "text": [
      "sequence 1 is DNA? True and sequence 3 is PROTEIN? False\n",
      "ATGTATTGGATGTAA\n",
      "AUGUAUUGGAUGUAA\n",
      "TTACATCCAATACAT\n",
      "MYWM_\n",
      "ATGTATTGGATGTAA,TGTATTGGATGTAA,GTATTGGATGTAA,AATGTAGGTTATGTA,ATGTAGGTTATGTA,TGTAGGTTATGTA\n",
      "MYWM_,NVGYV,CIGC,M_VM,VLDV,CRLC\n",
      "MYWM,M\n"
     ]
    }
   ],
   "source": [
    "#a class that allows to accomplish the objective\n",
    "class sequence_info:\n",
    "    #\"building block\", where you always have to have the sequence you are analyzing and the type of molecule: dna, rna, protein\n",
    "    def __init__(self,sequence, sequence_type:\"DNA\"):\n",
    "        self.sequence=sequence.upper() #uppercase sequence as a universal rule\n",
    "        self.sequence_type=sequence_type\n",
    "    def __length__(self):\n",
    "        return len(self.sequence)\n",
    "    def __getitem__(self,n):\n",
    "        return self.sequence[n]\n",
    "    def __getslice__(self,i,j):\n",
    "        return self.sequence[i:j]\n",
    "    def __str__(self):\n",
    "        return self.sequence\n",
    "    def sequence_type(self):\n",
    "        return self.sequence_type\n",
    "    def letters(self):\n",
    "        #each letter possible to have for dna, rna , protein for later to be able to validate the information about the type of molecule corresponding to the sequence\n",
    "        if (self.sequence_type==\"DNA\"): return \"ACGT\"\n",
    "        elif(self.sequence_type==\"RNA\"):return \"ACGU\"\n",
    "        elif(self.sequence_type==\"PROTEIN\"): return \"ACDEFGHIKLMNPQRSTVWY\"\n",
    "        else: return \"ERROR\"\n",
    "    def validate(self): #validates information about the type of molecule associated with the sequence\n",
    "        letras=self.letters()\n",
    "        res=True\n",
    "        i=0\n",
    "        while i<len(self.sequence) and res:\n",
    "            if self.sequence[i] not in letras: res = False\n",
    "            else: i +=1\n",
    "        return res\n",
    "    def contagem(self):#know which nucleotides are the most frequent amino acids\n",
    "        contagem={}\n",
    "        for x in self.sequence:\n",
    "            contagem[x]=contagem.get(x,0)+1\n",
    "            for c in sorte(contagem):\n",
    "                return c, contagem [c]       \n",
    "    def reverse_complement(self):#falta comprovar isto\n",
    "        if (self.sequence_type != \"DNA\"):return \"only do reverse complement with DNA\"\n",
    "        t=self.sequence.replace(\"T\",\"a\")\n",
    "        g=t.replace(\"G\",\"c\")\n",
    "        c=g.replace(\"C\",\"g\")\n",
    "        a=c.replace(\"A\",\"t\")\n",
    "        reverse_comp=a[::-1]\n",
    "        return reverse_comp.upper()    \n",
    "    def transcription(self):\n",
    "        if (self.sequence_type==\"DNA\"): return sequence_info(self.sequence.replace(\"T\",\"U\"),\"RNA\")\n",
    "        else:return \"only do transcription with DNA\"\n",
    "    def translate(self):\n",
    "        #if (self.sequence_type != \"DNA\"): return \"only want to do translation with DNA\"\n",
    "        sequence_aa=\"\"\n",
    "        for x in range(0, len(self.sequence)-2,3):#3 by 3\n",
    "            codon=self.sequence[x:x+3]\n",
    "            sequence_aa += translate_codon(codon)\n",
    "        return sequence_aa\n",
    "    def get_orfs_DNA(self): #6 possible orfs\n",
    "        if (self.sequence_type != \"DNA\"): return \"only want DNA orf\"\n",
    "        inverse_sequence=self.sequence[::-1]\n",
    "        return \",\".join([self.sequence[p:]for p in range(3)] + [inverse_sequence[p:] for p in range(3)]) \n",
    "    def get_orfs_Proteins(self): # translation of the 6 possible dna orfs\n",
    "        if (self.sequence_type != \"DNA\"): return \"just work from dna orf\"\n",
    "        inverse_sequence=self.sequence[::-1]\n",
    "        orfs_protein=[]\n",
    "        for p in range(3):\n",
    "            orfs_protein.append(sequence_info(self.sequence[p:],self.sequence_type).translate())\n",
    "            orfs_protein.append(sequence_info(inverse_sequence[p:],self.sequence_type).translate())\n",
    "        return \",\".join(orfs_protein)\n",
    "    def protsInAA(self):#gives all possible proteins of an amino acid sequence( from M to _)\n",
    "        seq_aa = self.translate()\n",
    "        prots_act = []\n",
    "        prots = []\n",
    "        for aa in seq_aa:\n",
    "            if aa == '_':\n",
    "                if prots_act:\n",
    "                    for p in prots_act:\n",
    "                        prots.append(p)\n",
    "                    prots_act = []\n",
    "            else:\n",
    "                if aa == 'M':\n",
    "                    prots_act.append('')\n",
    "                for i in range(len(prots_act)):\n",
    "                    prots_act[i] += aa\n",
    "        return \",\".join(prots) \n",
    " #if name=main é para conseguir importar direitinho os nodulos ou seja quanto estou neste ficheiro o name =main e ele faz a classe se for para outro ficheiro e importar a classe ele faz na mesma a classe sem repetir tufo o que aqui tenho\n",
    "# https://www.youtube.com/watch?v=3dHyS1W4TIE\n",
    "if __name__ == \"__main__\":   \n",
    "    s1 = sequence_info(\"ATGTATTGGATGTAA\",\"DNA\")\n",
    "    s2 = sequence_info(\"MKVVLSVQERSVVSLL_\", \"PROTEIN\")\n",
    "    s3 = sequence_info(\"ATTTTBTT\",\"PROTEIN\")\n",
    "    print(\"sequence 1 is {}? {} and sequence 3 is {}? {}\".format(s1.sequence_type,s1.validate(),s3.sequence_type,s3.validate()))\n",
    "    print(s1)\n",
    "    s3 = s1.transcription()\n",
    "    print(s3)\n",
    "    s4 = s1.reverse_complement()\n",
    "    print(s4)\n",
    "    s5= s1.translate()\n",
    "    print(s5)\n",
    "    s6=s1.get_orfs_DNA()\n",
    "    print(s6)\n",
    "    s8=s1.get_orfs_Proteins()\n",
    "    print(s8)\n",
    "    s9=s1.protsInAA()\n",
    "    print(s9)\n",
    "    \n",
    "\n",
    "    \n",
    "    "
   ]
  }
 ],
 "metadata": {
  "kernelspec": {
   "display_name": "Python 3 (ipykernel)",
   "language": "python",
   "name": "python3"
  },
  "language_info": {
   "codemirror_mode": {
    "name": "ipython",
    "version": 3
   },
   "file_extension": ".py",
   "mimetype": "text/x-python",
   "name": "python",
   "nbconvert_exporter": "python",
   "pygments_lexer": "ipython3",
   "version": "3.9.12"
  }
 },
 "nbformat": 4,
 "nbformat_minor": 5
}
