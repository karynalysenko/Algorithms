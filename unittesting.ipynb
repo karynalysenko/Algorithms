{
 "cells": [
  {
   "cell_type": "code",
   "execution_count": 2,
   "id": "f045ba3e",
   "metadata": {},
   "outputs": [],
   "source": [
    "import unittest"
   ]
  },
  {
   "cell_type": "code",
   "execution_count": 8,
   "id": "b0b21dbe",
   "metadata": {},
   "outputs": [],
   "source": [
    "#Final\n",
    "import unittest\n",
    "class TestDB(unittest.TestCase):\n",
    "#testing DB class\n",
    "    def test_setUp(self):\n",
    "        self.assertTrue(DB(\"20221207\"))\n",
    "        with self.assertRaises(Exception) as error:\n",
    "            self.db1 = DB(\"2022120\")\n",
    "            self.db2 = DB(\"20221208\")\n",
    "            self.db3 = DB(\"\")\n",
    "            self.db4 = DB(\" \")\n",
    "        self.assertEqual(error.exception.args[0], \"The password is wrong!\")\n",
    "\n",
    "    def test_extract_sequences(self):\n",
    "        self.db = DB(\"20221207\")\n",
    "        self.db.extract_sequences()\n",
    "        self.assertIsNotNone(self.db.sequences)\n",
    "        \n",
    "    def test_extract_ids(self):\n",
    "        self.db = DB(\"20221207\")\n",
    "        self.db.extract_ids()\n",
    "        self.assertIsNotNone(self.db.sequences)\n",
    "        \n",
    "suite = unittest.TestLoader().loadTestsFromTestCase(TestDB)\n",
    "unittest.TextTestRunner(verbosity=3).run(suite) "
   ]
  },
  {
   "cell_type": "code",
   "execution_count": null,
   "id": "2be754a6",
   "metadata": {},
   "outputs": [],
   "source": [
    "class TestSBlast(unittest.TestCase):\n",
    "    w = 3\n",
    "    seq = 'AATATGTTATATAATAATATTT'\n",
    "    query = 'AATATAT'\n",
    "    sb = SimpleBlast(w,seq)\n",
    "    result_qm = {'AAT': [0], 'ATA': [1, 3], 'TAT': [2, 4]}\n",
    "    \n",
    "    def test_querymap(self):\n",
    "        self.assertEqual(self.sb.query_map(self.query),self.result_qm)\n",
    "        \n",
    "    def test_hits(self):\n",
    "        result_hit = [(0, 0), (0, 12), (0, 15), (1, 1), (1, 8), (1, 10), (1, 13), (1, 16),\n",
    "                    (3, 1), (3, 8), (3, 10), (3, 13), (3, 16), (2, 2), (2, 7), (2, 9),\n",
    "                    (2, 17), (4, 2), (4, 7), (4, 9), (4, 17)]\n",
    "        self.assertEqual(set(self.sb.hits(self.result_qm, self.seq)), set(result_hit))\n",
    "        \n",
    "    def test_extend_hit_dir(self):\n",
    "        self.assertEqual(self.sb.extend_hit_dir(query, seq, 1, 16, -1), (0, 15, 2, 2))\n",
    "        self.assertEqual(self.sb.extend_hit_dir(query, seq, 1, 16, 1), (6, 21, 5, 6))\n",
    "        \n",
    "    def test_extend_hit(self):\n",
    "        self.assertEqual(self.sb.extend_hit(query, seq, (1,16), w), (0, 15, 7, 6))\n",
    "    \n",
    "    def test_best_hit(self):\n",
    "        self.assertEqual(self.sb.best_hit(query, seq, w), (0, 0, 7, 6))  "
   ]
  }
 ],
 "metadata": {
  "kernelspec": {
   "display_name": "Python 3 (ipykernel)",
   "language": "python",
   "name": "python3"
  },
  "language_info": {
   "codemirror_mode": {
    "name": "ipython",
    "version": 3
   },
   "file_extension": ".py",
   "mimetype": "text/x-python",
   "name": "python",
   "nbconvert_exporter": "python",
   "pygments_lexer": "ipython3",
   "version": "3.9.12"
  }
 },
 "nbformat": 4,
 "nbformat_minor": 5
}
