{
 "cells": [
  {
   "cell_type": "markdown",
   "id": "7979ffe5",
   "metadata": {},
   "source": [
    "Classe para analisar as sequencia, se é dna,rna,proteina e fazer respetiva transcrição e tradução- tentr colcoar os orf tb"
   ]
  },
  {
   "cell_type": "code",
   "execution_count": 5,
   "id": "e37ecbb6",
   "metadata": {},
   "outputs": [
    {
     "data": {
      "text/plain": [
       "'H'"
      ]
     },
     "execution_count": 5,
     "metadata": {},
     "output_type": "execute_result"
    }
   ],
   "source": [
    "def translate_codon(cod):\n",
    "    \"\"\"Translates a codon into an aminoacid using an internal dictionary with the standard genetic code.\"\"\"\n",
    "    tc = {\"GCT\":\"A\", \"GCC\":\"A\", \"GCA\":\"A\", \"GCG\":\"A\", \n",
    "      \"TGT\":\"C\", \"TGC\":\"C\",\n",
    "      \"GAT\":\"D\", \"GAC\":\"D\",\n",
    "      \"GAA\":\"E\", \"GAG\":\"E\",\n",
    "      \"TTT\":\"F\", \"TTC\":\"F\",\n",
    "      \"GGT\":\"G\", \"GGC\":\"G\", \"GGA\":\"G\", \"GGG\":\"G\",\n",
    "      \"CAT\":\"H\", \"CAC\":\"H\",\n",
    "      \"ATA\":\"I\", \"ATT\":\"I\", \"ATC\":\"I\",\n",
    "      \"AAA\":\"K\", \"AAG\":\"K\",\n",
    "      \"TTA\":\"L\", \"TTG\":\"L\", \"CTT\":\"L\", \"CTC\":\"L\", \"CTA\":\"L\", \"CTG\":\"L\",\n",
    "      \"ATG\":\"M\", \"AAT\":\"N\", \"AAC\":\"N\",\n",
    "      \"CCT\":\"P\", \"CCC\":\"P\", \"CCA\":\"P\", \"CCG\":\"P\",\n",
    "      \"CAA\":\"Q\", \"CAG\":\"Q\",\n",
    "      \"CGT\":\"R\", \"CGC\":\"R\", \"CGA\":\"R\", \"CGG\":\"R\", \"AGA\":\"R\", \"AGG\":\"R\",\n",
    "      \"TCT\":\"S\", \"TCC\":\"S\", \"TCA\":\"S\", \"TCG\":\"S\", \"AGT\":\"S\", \"AGC\":\"S\",\n",
    "      \"ACT\":\"T\", \"ACC\":\"T\", \"ACA\":\"T\", \"ACG\":\"T\",\n",
    "      \"GTT\":\"V\", \"GTC\":\"V\", \"GTA\":\"V\", \"GTG\":\"V\",\n",
    "      \"TGG\":\"W\",\n",
    "      \"TAT\":\"Y\", \"TAC\":\"Y\",\n",
    "      \"TAA\":\"_\", \"TAG\":\"_\", \"TGA\":\"_\"}\n",
    "    if cod in tc: return tc[cod] #vai buscar ao dicionario conforma a chave dic[chave] e dá o valor que neste caso é uma letra\n",
    "    else: return \"nao tem nada\"\n",
    "translate_codon(\"CAT\")"
   ]
  },
  {
   "cell_type": "code",
   "execution_count": 37,
   "id": "afd327cf",
   "metadata": {},
   "outputs": [
    {
     "name": "stdout",
     "output_type": "stream",
     "text": [
      "sequence 1 is DNA? True and sequence 3 is PROTEIN? False\n",
      "ATGTATTGGATGTAA\n",
      "AUGUAUUGGAUGUAA\n",
      "MYWM_\n",
      "['ATGTATTGGATGTAA', 'TGTATTGGATGTAA', 'GTATTGGATGTAA', 'AATGTAGGTTATGTA', 'ATGTAGGTTATGTA', 'TGTAGGTTATGTA']\n",
      "['MYWM', 'M']\n"
     ]
    }
   ],
   "source": [
    "#criar a classe\n",
    "class sequence_info:\n",
    "    #bloco construtor/ self é geral\n",
    "    def __init__(self,sequence, sequence_type:\"DNA\"):\n",
    "        self.sequence=sequence.upper() #quero colcoar uma instancia global para todas as sequencias que vamos ler e têm que todas ser automaticamente em letra maiuscula\n",
    "        self.sequence_type=sequence_type\n",
    "    def __length__(self):\n",
    "        return len(self.sequence)\n",
    "    def __getitem__(self,n):\n",
    "        return self.sequence[n]\n",
    "    def __getslice__(self,i,j):\n",
    "        return self.sequence[i:j]\n",
    "    def __str__(self):\n",
    "        return self.sequence\n",
    "    def sequence_type(self):\n",
    "        return self.sequence_type\n",
    "    def letters(self):#quero atribuir todas a possiveis letras a cada tipoi de seqeuncia , ou entao dá erro isto é de forma geral\n",
    "        #estou a dizer ao codigo a teoria , ou seja, cada letra possivel de ter para dna,rna , protein\n",
    "        if (self.sequence_type==\"DNA\"): return \"ACGT\"\n",
    "        elif(self.sequence_type==\"RNA\"):return \"ACGU\"\n",
    "        elif(self.sequence_type==\"PROTEIN\"): return \"ACDEFGHIKLMNPQRSTVWY\"\n",
    "        else: return \"ERROR\"\n",
    "    def validate(self): # percorre a seq toda caso não encontre as letras do alfabeto da falso\n",
    "        letras=self.letters()\n",
    "        res=True\n",
    "        i=0\n",
    "        while i<len(self.sequence) and res:\n",
    "            if self.sequence[i] not in letras: res = False\n",
    "            else: i +=1\n",
    "        return res\n",
    "    def contagem(self):#testar depois\n",
    "        contagem={}\n",
    "        for x in self.sequence:\n",
    "            contagem[x]=contagem.get(x,0)+1\n",
    "            for c in sorte(contagem):\n",
    "                return c, contagem [c]       \n",
    "    def reverse_complement(self):\n",
    "        if (self.sequence_type != \"DNA\"):return \"só quero trabalahr com dna\"\n",
    "        a=self.sequence.replace(\"T\",\"a\")\n",
    "        b=a.replace(\"G\",\"c\")\n",
    "        c=b.replace(\"C\",\"g\")\n",
    "        d=c.replace(\"A\",\"t\")\n",
    "        return d.upper()    \n",
    "    def transcription(self):\n",
    "        if (self.sequence_type==\"DNA\"): return sequence_info(self.sequence.replace(\"T\",\"U\"),\"RNA\")\n",
    "        else:return \"it is not DNA\"\n",
    "    def translate(self):#só de dna para protein i guess\n",
    "        #if (self.sequence_type != \"DNA\"): return \"não dá\"\n",
    "        sequence_aa=\"\"\n",
    "        for x in range(0, len(self.sequence)-2,3):#ja ve de 3 em 3\n",
    "            codon=self.sequence[x:x+3]\n",
    "            aa=translate_codon(codon)\n",
    "            sequence_aa +=aa #definido anteriormente\n",
    "        return sequence_aa\n",
    "    def get_orfs_DNA(self):\n",
    "        inverse_sequence=self.sequence[::-1]\n",
    "        a=[self.sequence[p:]for p in range(3)] + [inverse_sequence[p:] for p in range(3)]\n",
    "        return a\n",
    "    def get_orfs_Protein(self):\n",
    "        b=self.get_orfs_DNA\n",
    "        for x in b:\n",
    "            print(x) #tenho de ver este\n",
    "    def protsInAA(self):\n",
    "        seq_aa = self.translate()\n",
    "        prots_act = []\n",
    "        prots = []\n",
    "\n",
    "        for aa in seq_aa:\n",
    "            if aa == '_':\n",
    "                if prots_act:\n",
    "                    for p in prots_act:\n",
    "                        prots.append(p)\n",
    "                    prots_act = []\n",
    "            else:\n",
    "                if aa == 'M':\n",
    "                    prots_act.append('')\n",
    "                for i in range(len(prots_act)):\n",
    "                    prots_act[i] += aa\n",
    "        return prots \n",
    " #if name=main é para conseguir importar direitinho os nodulos ou seja quanto estou neste ficheiro o name =main e ele faz a classe se for para outro ficheiro e importar a classe ele faz na mesma a classe sem repetir tufo o que aqui tenho\n",
    "# https://www.youtube.com/watch?v=3dHyS1W4TIE\n",
    "if __name__ == \"__main__\":   \n",
    "    s1 = sequence_info(\"ATGTATTGGATGTAA\",\"DNA\")\n",
    "    s2 = sequence_info(\"MKVVLSVQERSVVSLL\", \"PROTEIN\")\n",
    "    s3 = sequence_info(\"ATTTTBTT\",\"PROTEIN\")\n",
    "    print(\"sequence 1 is {}? {} and sequence 3 is {}? {}\".format(s1.sequence_type,s1.validate(),s3.sequence_type,s3.validate()))\n",
    "    print(s1)\n",
    "    s3 = s1.transcription()\n",
    "    print(s3)\n",
    "    s4 = s1.reverse_complement()\n",
    "    s5= s1.translate()\n",
    "    print(s5)\n",
    "    s6=s1.get_orfs_DNA()\n",
    "    print(s6)\n",
    "    s7=s1.protsInAA()\n",
    "    print(s7)"
   ]
  },
  {
   "cell_type": "code",
   "execution_count": null,
   "id": "b8e94d5c",
   "metadata": {},
   "outputs": [],
   "source": [
    "#falta transformar as orfs de dna em possiveis proteinas ou isso nao faz falta???"
   ]
  },
  {
   "cell_type": "code",
   "execution_count": 13,
   "id": "f76164a2",
   "metadata": {},
   "outputs": [
    {
     "name": "stdout",
     "output_type": "stream",
     "text": [
      "ATGTGATAAGAATAGAATGCTGAATAAATAGAATGACAT\n",
      "TGTGATAAGAATAGAATGCTGAATAAATAGAATGACAT\n",
      "GTGATAAGAATAGAATGCTGAATAAATAGAATGACAT\n",
      "TACAGTAAGATAAATAAGTCGTAAGATAAGAATAGTGTA\n",
      "ACAGTAAGATAAATAAGTCGTAAGATAAGAATAGTGTA\n",
      "CAGTAAGATAAATAAGTCGTAAGATAAGAATAGTGTA\n"
     ]
    }
   ],
   "source": [
    "a=['ATGTGATAAGAATAGAATGCTGAATAAATAGAATGACAT', 'TGTGATAAGAATAGAATGCTGAATAAATAGAATGACAT', 'GTGATAAGAATAGAATGCTGAATAAATAGAATGACAT', 'TACAGTAAGATAAATAAGTCGTAAGATAAGAATAGTGTA', 'ACAGTAAGATAAATAAGTCGTAAGATAAGAATAGTGTA', 'CAGTAAGATAAATAAGTCGTAAGATAAGAATAGTGTA']\n",
    "for x in a :\n",
    "    print(x)"
   ]
  },
  {
   "cell_type": "code",
   "execution_count": null,
   "id": "f9644103",
   "metadata": {},
   "outputs": [],
   "source": []
  }
 ],
 "metadata": {
  "kernelspec": {
   "display_name": "Python 3 (ipykernel)",
   "language": "python",
   "name": "python3"
  },
  "language_info": {
   "codemirror_mode": {
    "name": "ipython",
    "version": 3
   },
   "file_extension": ".py",
   "mimetype": "text/x-python",
   "name": "python",
   "nbconvert_exporter": "python",
   "pygments_lexer": "ipython3",
   "version": "3.9.12"
  }
 },
 "nbformat": 4,
 "nbformat_minor": 5
}
