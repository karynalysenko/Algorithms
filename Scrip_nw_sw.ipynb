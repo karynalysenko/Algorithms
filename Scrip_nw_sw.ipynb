{
 "cells": [
  {
   "cell_type": "code",
   "execution_count": 11,
   "id": "1f74742a",
   "metadata": {},
   "outputs": [
    {
     "data": {
      "text/plain": [
       "([[0, -4, -8, -12, -16, -20, -24],\n",
       "  [-4, -3, -4, -8, -12, -16, -20],\n",
       "  [-8, -4, 1, 0, -4, -8, -12],\n",
       "  [-12, -8, -3, 1, -3, -4, -8],\n",
       "  [-16, -12, -7, -3, 0, -3, -5],\n",
       "  [-20, -16, -11, -7, -4, 0, -4],\n",
       "  [-24, -20, -15, -11, -8, -4, -3]],\n",
       " [[0, 3, 3, 3, 3, 3, 3],\n",
       "  [2, 1, 1, 3, 3, 3, 3],\n",
       "  [2, 1, 1, 1, 3, 3, 3],\n",
       "  [2, 2, 2, 1, 3, 1, 3],\n",
       "  [2, 2, 2, 2, 1, 1, 1],\n",
       "  [2, 2, 2, 2, 2, 1, 3],\n",
       "  [2, 2, 2, 2, 2, 2, 1]])"
      ]
     },
     "execution_count": 11,
     "metadata": {},
     "output_type": "execute_result"
    }
   ],
   "source": [
    "def create_blossum62():#ler linha a linha\n",
    "    mat = \"\"\"\n",
    "       A  R  N  D  C  Q  E  G  H  I  L  K  M  F  P  S  T  W  Y  V  B  Z  X  *\n",
    "    A  4 -1 -2 -2  0 -1 -1  0 -2 -1 -1 -1 -1 -2 -1  1  0 -3 -2  0 -2 -1  0 -4 \n",
    "    R -1  5  0 -2 -3  1  0 -2  0 -3 -2  2 -1 -3 -2 -1 -1 -3 -2 -3 -1  0 -1 -4 \n",
    "    N -2  0  6  1 -3  0  0  0  1 -3 -3  0 -2 -3 -2  1  0 -4 -2 -3  3  0 -1 -4 \n",
    "    D -2 -2  1  6 -3  0  2 -1 -1 -3 -4 -1 -3 -3 -1  0 -1 -4 -3 -3  4  1 -1 -4 \n",
    "    C  0 -3 -3 -3  9 -3 -4 -3 -3 -1 -1 -3 -1 -2 -3 -1 -1 -2 -2 -1 -3 -3 -2 -4 \n",
    "    Q -1  1  0  0 -3  5  2 -2  0 -3 -2  1  0 -3 -1  0 -1 -2 -1 -2  0  3 -1 -4 \n",
    "    E -1  0  0  2 -4  2  5 -2  0 -3 -3  1 -2 -3 -1  0 -1 -3 -2 -2  1  4 -1 -4 \n",
    "    G  0 -2  0 -1 -3 -2 -2  6 -2 -4 -4 -2 -3 -3 -2  0 -2 -2 -3 -3 -1 -2 -1 -4 \n",
    "    H -2  0  1 -1 -3  0  0 -2  8 -3 -3 -1 -2 -1 -2 -1 -2 -2  2 -3  0  0 -1 -4 \n",
    "    I -1 -3 -3 -3 -1 -3 -3 -4 -3  4  2 -3  1  0 -3 -2 -1 -3 -1  3 -3 -3 -1 -4 \n",
    "    L -1 -2 -3 -4 -1 -2 -3 -4 -3  2  4 -2  2  0 -3 -2 -1 -2 -1  1 -4 -3 -1 -4 \n",
    "    K -1  2  0 -1 -3  1  1 -2 -1 -3 -2  5 -1 -3 -1  0 -1 -3 -2 -2  0  1 -1 -4 \n",
    "    M -1 -1 -2 -3 -1  0 -2 -3 -2  1  2 -1  5  0 -2 -1 -1 -1 -1  1 -3 -1 -1 -4 \n",
    "    F -2 -3 -3 -3 -2 -3 -3 -3 -1  0  0 -3  0  6 -4 -2 -2  1  3 -1 -3 -3 -1 -4 \n",
    "    P -1 -2 -2 -1 -3 -1 -1 -2 -2 -3 -3 -1 -2 -4  7 -1 -1 -4 -3 -2 -2 -1 -2 -4 \n",
    "    S  1 -1  1  0 -1  0  0  0 -1 -2 -2  0 -1 -2 -1  4  1 -3 -2 -2  0  0  0 -4 \n",
    "    T  0 -1  0 -1 -1 -1 -1 -2 -2 -1 -1 -1 -1 -2 -1  1  5 -2 -2  0 -1 -1  0 -4 \n",
    "    W -3 -3 -4 -4 -2 -2 -3 -2 -2 -3 -2 -3 -1  1 -4 -3 -2 11  2 -3 -4 -3 -2 -4 \n",
    "    Y -2 -2 -2 -3 -2 -1 -2 -3  2 -1 -1 -2 -1  3 -3 -2 -2  2  7 -1 -3 -2 -1 -4 \n",
    "    V  0 -3 -3 -3 -1 -2 -2 -3 -3  3  1 -2  1 -1 -2 -2  0 -3 -1  4 -3 -2 -1 -4 \n",
    "    B -2 -1  3  4 -3  0  1 -1  0 -3 -4  0 -3 -3 -2  0 -1 -4 -3 -3  4  1 -1 -4 \n",
    "    Z -1  0  0  1 -3  3  4 -2  0 -3 -3  1 -1 -3 -1  0 -1 -3 -2 -2  1  4 -1 -4 \n",
    "    X  0 -1 -1 -1 -2 -1 -1 -1 -1 -1 -1 -1 -1 -1 -2  0  0 -2 -1 -1 -1 -1 -1 -4 \n",
    "    * -4 -4 -4 -4 -4 -4 -4 -4 -4 -4 -4 -4 -4 -4 -4 -4 -4 -4 -4 -4 -4 -4 -4  1\"\"\"\n",
    "\n",
    "    D = {}\n",
    "\n",
    "    fields, *M = [L.strip().split() for L in mat.splitlines() if L.strip() != '']\n",
    "\n",
    "    for L in M:\n",
    "        k, *L = L\n",
    "        for f, v in zip(fields, L):\n",
    "            if f not in D:\n",
    "                D[f] = {}\n",
    "            D[f][k] = int(v)\n",
    "    return D\n",
    "# score of a position (column) \n",
    "def score_pos (c1, c2, sm, g):\n",
    "    if c1 == \"-\" or c2==\"-\":\n",
    "        return g\n",
    "    else:\n",
    "        return sm[c1][c2]\n",
    "#score_pos(\"G\",\"C\",create_blossum62(),-4)\n",
    "def score_align (seq1, seq2, sm, g):\n",
    "    res = 0;\n",
    "    for i in range(len(seq1)):\n",
    "        res += score_pos (seq1[i], seq2[i], sm, g)\n",
    "    return res\n",
    "score_align (\"GAGTGG\",\"CAACAC\",create_blossum62(),-4)\n",
    "def max3t (v1, v2, v3):\n",
    "    if v1 > v2:\n",
    "        if v1 > v3: return 1\n",
    "        else: return 3\n",
    "    else:\n",
    "        if v2 > v3: return 2\n",
    "        else: return 3\n",
    "def needleman_Wunsch (seq1, seq2, sm, g):\n",
    "    S = [[0]]\n",
    "    T = [[0]]\n",
    "    for j in range(1, len(seq2)+1):\n",
    "        S[0].append(g * j)\n",
    "        T[0].append(3)\n",
    "    for i in range(1, len(seq1)+1):\n",
    "        S.append([g * i])\n",
    "        T.append([2])\n",
    "    for i in range(0, len(seq1)):\n",
    "        for j in range(len(seq2)):\n",
    "            s1 = S[i][j] + score_pos (seq1[i], seq2[j], sm, g); \n",
    "            s2 = S[i][j+1] + g\n",
    "            s3 = S[i+1][j] + g\n",
    "            S[i+1].append(max(s1, s2, s3))\n",
    "            T[i+1].append(max3t(s1, s2, s3))\n",
    "    return (S, T)\n",
    "needleman_Wunsch (\"GAGTGG\",\"CAACAC\",create_blossum62(),-4)"
   ]
  },
  {
   "cell_type": "code",
   "execution_count": null,
   "id": "8821d52d",
   "metadata": {},
   "outputs": [],
   "source": [
    "GAGTGG\n",
    "CAACAC"
   ]
  }
 ],
 "metadata": {
  "kernelspec": {
   "display_name": "Python 3 (ipykernel)",
   "language": "python",
   "name": "python3"
  },
  "language_info": {
   "codemirror_mode": {
    "name": "ipython",
    "version": 3
   },
   "file_extension": ".py",
   "mimetype": "text/x-python",
   "name": "python",
   "nbconvert_exporter": "python",
   "pygments_lexer": "ipython3",
   "version": "3.9.12"
  }
 },
 "nbformat": 4,
 "nbformat_minor": 5
}
